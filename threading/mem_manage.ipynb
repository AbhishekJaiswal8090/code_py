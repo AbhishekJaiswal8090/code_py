{
 "cells": [
  {
   "cell_type": "markdown",
   "id": "eb264bd6",
   "metadata": {},
   "source": [
    "Memory management in Python is handled automatically, thanks to its built-in garbage collection and reference counting mechanisms. Here’s a quick breakdown:\n",
    "- Reference Counting: Python keeps track of the number of references to an object. When the reference count drops to zero, the object is deallocated.\n",
    "- Garbage Collection: Python has a garbage collector that removes objects no longer in use, freeing up memory.\n"
   ]
  },
  {
   "cell_type": "markdown",
   "id": "36a56b27",
   "metadata": {},
   "source": [
    "#reference counting\n"
   ]
  },
  {
   "cell_type": "code",
   "execution_count": null,
   "id": "796d69c9",
   "metadata": {},
   "outputs": [
    {
     "name": "stdout",
     "output_type": "stream",
     "text": [
      "2\n"
     ]
    }
   ],
   "source": [
    "import sys\n",
    "a=[\n",
    "\n",
    "]\n",
    "\n",
    "print(sys.getrefcount(a))\n",
    "#The output is 2 because of once ref of a is  1 and then the getrfcount method has one so its 2 "
   ]
  },
  {
   "cell_type": "code",
   "execution_count": null,
   "id": "aa0c48f9",
   "metadata": {},
   "outputs": [
    {
     "name": "stdout",
     "output_type": "stream",
     "text": [
      "3\n"
     ]
    }
   ],
   "source": [
    "b=a\n",
    "print(sys.getrefcount(b))\n",
    "# it shows the answer 3 because the a has already one and since we assign here a into b its one and then\n",
    "#method has on refcount so its total of the three refcount"
   ]
  },
  {
   "cell_type": "code",
   "execution_count": 3,
   "id": "e02d881a",
   "metadata": {},
   "outputs": [
    {
     "name": "stdout",
     "output_type": "stream",
     "text": [
      "2\n"
     ]
    }
   ],
   "source": [
    "#and once if we delete the b it shows the answer reduced to 2 because thats how \n",
    "#refernce counting work once the obj refcount drops to zero the garbage is deallocatd\n",
    "del b\n",
    "print(sys.getrefcount(a))"
   ]
  },
  {
   "cell_type": "markdown",
   "id": "6070a9d5",
   "metadata": {},
   "source": [
    "#grabage collection"
   ]
  },
  {
   "cell_type": "markdown",
   "id": "682cbc16",
   "metadata": {},
   "source": [
    "Python has a garbage collector that removes objects no longer in use, freeing up memory"
   ]
  },
  {
   "cell_type": "code",
   "execution_count": 4,
   "id": "b27b700c",
   "metadata": {},
   "outputs": [],
   "source": [
    "import gc #garbage collector\n",
    "\n",
    "gc.enable()"
   ]
  },
  {
   "cell_type": "code",
   "execution_count": 5,
   "id": "d545df1d",
   "metadata": {},
   "outputs": [],
   "source": [
    "gc.disable()"
   ]
  },
  {
   "cell_type": "code",
   "execution_count": 6,
   "id": "a04f0135",
   "metadata": {},
   "outputs": [
    {
     "data": {
      "text/plain": [
       "165"
      ]
     },
     "execution_count": 6,
     "metadata": {},
     "output_type": "execute_result"
    }
   ],
   "source": [
    "gc.collect()"
   ]
  },
  {
   "cell_type": "code",
   "execution_count": null,
   "id": "1d24d2da",
   "metadata": {},
   "outputs": [],
   "source": []
  },
  {
   "cell_type": "code",
   "execution_count": null,
   "id": "459559cc",
   "metadata": {},
   "outputs": [],
   "source": []
  }
 ],
 "metadata": {
  "kernelspec": {
   "display_name": "Python 3",
   "language": "python",
   "name": "python3"
  },
  "language_info": {
   "codemirror_mode": {
    "name": "ipython",
    "version": 3
   },
   "file_extension": ".py",
   "mimetype": "text/x-python",
   "name": "python",
   "nbconvert_exporter": "python",
   "pygments_lexer": "ipython3",
   "version": "3.12.0"
  }
 },
 "nbformat": 4,
 "nbformat_minor": 5
}
