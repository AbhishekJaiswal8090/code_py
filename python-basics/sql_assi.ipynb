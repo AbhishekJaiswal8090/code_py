{
 "cells": [
  {
   "cell_type": "code",
   "execution_count": 1,
   "id": "2d08c2b5",
   "metadata": {},
   "outputs": [],
   "source": [
    "import sqlite3"
   ]
  },
  {
   "cell_type": "code",
   "execution_count": null,
   "id": "e6ccde55",
   "metadata": {},
   "outputs": [],
   "source": [
    "def dv_connection(name):\n",
    "    global connection, cursor\n",
    "    connection = sqlite3.connect(name)\n",
    "    cursor = connection.cursor()\n",
    "    adding_emp()\n",
    "\n",
    "def adding_emp():\n",
    "    cursor.execute('''\n",
    "     Create Table If Not Exists employees (\n",
    "                   id Integer,\n",
    "                   name Text NOT NULL,\n",
    "                   age Integer,\n",
    "                   department Text NOT NULL\n",
    "                   )\n",
    "    ''')\n",
    "    connection.commit()\n",
    "\n",
    "dv_connection(\"Te_st.db\")    "
   ]
  },
  {
   "cell_type": "code",
   "execution_count": 8,
   "id": "4f714a64",
   "metadata": {},
   "outputs": [],
   "source": [
    "def insert_ion():\n",
    "    cursor.execute('''\n",
    "Insert into employees (id ,name,age,department)\n",
    "                   VALUES (\"1\",\"Abhishek\",\"19\",\"Engg.\") ,\n",
    "                    (\"2\", \"John\", \"25\", \"HR\"),\n",
    "           (\"3\", \"Alice\", \"30\", \"Finance\"),\n",
    "           (\"4\", \"Bob\", \"22\", \"Marketing\"),\n",
    "           (\"5\", \"Eve\", \"28\", \"IT\")\n",
    "\n",
    "                   ''')\n",
    "    \n",
    "    connection.commit()\n",
    "insert_ion()    "
   ]
  },
  {
   "cell_type": "code",
   "execution_count": 9,
   "id": "67c92c83",
   "metadata": {},
   "outputs": [
    {
     "name": "stdout",
     "output_type": "stream",
     "text": [
      "(1, 'Abhishek', 19, 'Engg.')\n",
      "(1, 'Abhishek', 19, 'Engg.')\n",
      "(2, 'John', 25, 'HR')\n",
      "(3, 'Alice', 30, 'Finance')\n",
      "(4, 'Bob', 22, 'Marketing')\n",
      "(5, 'Eve', 28, 'IT')\n"
     ]
    }
   ],
   "source": [
    "def print_data():\n",
    "    cursor.execute('Select * from employees')\n",
    "    rows = cursor.fetchall()\n",
    "\n",
    "    for row in rows :\n",
    "        print(row)\n",
    "print_data()\n"
   ]
  },
  {
   "cell_type": "code",
   "execution_count": null,
   "id": "1ecb81cb",
   "metadata": {},
   "outputs": [],
   "source": []
  },
  {
   "cell_type": "code",
   "execution_count": null,
   "id": "a40db674",
   "metadata": {},
   "outputs": [],
   "source": []
  },
  {
   "cell_type": "code",
   "execution_count": null,
   "id": "b0bbe7e7",
   "metadata": {},
   "outputs": [],
   "source": []
  },
  {
   "cell_type": "code",
   "execution_count": null,
   "id": "da48d90d",
   "metadata": {},
   "outputs": [],
   "source": []
  },
  {
   "cell_type": "code",
   "execution_count": null,
   "id": "52e06625",
   "metadata": {},
   "outputs": [],
   "source": []
  },
  {
   "cell_type": "code",
   "execution_count": null,
   "id": "1b6c904c",
   "metadata": {},
   "outputs": [],
   "source": []
  }
 ],
 "metadata": {
  "kernelspec": {
   "display_name": "Python 3",
   "language": "python",
   "name": "python3"
  },
  "language_info": {
   "codemirror_mode": {
    "name": "ipython",
    "version": 3
   },
   "file_extension": ".py",
   "mimetype": "text/x-python",
   "name": "python",
   "nbconvert_exporter": "python",
   "pygments_lexer": "ipython3",
   "version": "3.12.0"
  }
 },
 "nbformat": 4,
 "nbformat_minor": 5
}
