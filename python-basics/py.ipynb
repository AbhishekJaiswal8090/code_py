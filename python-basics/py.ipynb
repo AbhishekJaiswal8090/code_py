{
 "cells": [
  {
   "cell_type": "code",
   "execution_count": 31,
   "metadata": {},
   "outputs": [
    {
     "name": "stdout",
     "output_type": "stream",
     "text": [
      "[2, 3, 45, 6, 7, 8, 99]\n"
     ]
    }
   ],
   "source": [
    "list = [1,2,3,45,6,7,8,99]\n",
    "list.remove(1)\n",
    "print(list)\n"
   ]
  },
  {
   "cell_type": "code",
   "execution_count": 32,
   "metadata": {},
   "outputs": [
    {
     "name": "stdout",
     "output_type": "stream",
     "text": [
      "['cherry', 'banana', 'apple', 'orange']\n",
      "['cherry', 'banana', 'apple', 'orange']\n"
     ]
    }
   ],
   "source": [
    "fruits =[\"cherry\",\"banana\",\"apple\",\"orange\",\"grapes\"]\n",
    "fruits.pop()\n",
    "print(fruits)\n",
    "\n",
    "print(fruits)"
   ]
  },
  {
   "cell_type": "code",
   "execution_count": 33,
   "metadata": {},
   "outputs": [
    {
     "name": "stdout",
     "output_type": "stream",
     "text": [
      "['cherry', 'banana', 'apple', 'orange', 'vegetables']\n",
      "['cherry', 'banana', 'blueberry', 'apple', 'orange', 'vegetables']\n"
     ]
    }
   ],
   "source": [
    "fruits.append(\"vegetables\")\n",
    "print(fruits)\n",
    "fruits.insert(2,\"blueberry\")\n",
    "print(fruits)"
   ]
  },
  {
   "cell_type": "code",
   "execution_count": 34,
   "metadata": {},
   "outputs": [
    {
     "ename": "NameError",
     "evalue": "name 'number' is not defined",
     "output_type": "error",
     "traceback": [
      "\u001b[1;31m---------------------------------------------------------------------------\u001b[0m",
      "\u001b[1;31mNameError\u001b[0m                                 Traceback (most recent call last)",
      "Cell \u001b[1;32mIn[34], line 3\u001b[0m\n\u001b[0;32m      1\u001b[0m num\u001b[38;5;241m=\u001b[39m[\u001b[38;5;241m1\u001b[39m, \u001b[38;5;241m2\u001b[39m,\u001b[38;5;241m3\u001b[39m , \u001b[38;5;241m4\u001b[39m,\u001b[38;5;241m5\u001b[39m ,\u001b[38;5;241m6\u001b[39m ,\u001b[38;5;241m7\u001b[39m,\u001b[38;5;241m8\u001b[39m,\u001b[38;5;241m9\u001b[39m]\n\u001b[0;32m      2\u001b[0m array\u001b[38;5;241m=\u001b[39m[]\n\u001b[1;32m----> 3\u001b[0m \u001b[38;5;28;01mfor\u001b[39;00m num \u001b[38;5;129;01min\u001b[39;00m \u001b[43mnumber\u001b[49m:\n\u001b[0;32m      4\u001b[0m     array \u001b[38;5;241m=\u001b[39m num\n\u001b[0;32m      6\u001b[0m \u001b[38;5;28mprint\u001b[39m(array)\n",
      "\u001b[1;31mNameError\u001b[0m: name 'number' is not defined"
     ]
    }
   ],
   "source": [
    "num=[1, 2,3 , 4,5 ,6 ,7,8,9]\n",
    "array=[]\n",
    "for num in number:\n",
    "    array = num\n",
    "   \n",
    "print(array)"
   ]
  },
  {
   "cell_type": "code",
   "execution_count": null,
   "metadata": {},
   "outputs": [
    {
     "name": "stdout",
     "output_type": "stream",
     "text": [
      "[0, 2, 4, 6, 8]\n"
     ]
    }
   ],
   "source": [
    "even_number=[ num for num in range(10) if num%2==0]\n",
    "print(even_number)"
   ]
  },
  {
   "cell_type": "code",
   "execution_count": null,
   "metadata": {},
   "outputs": [
    {
     "name": "stdout",
     "output_type": "stream",
     "text": [
      "[8, 5, 4, 5]\n"
     ]
    }
   ],
   "source": [
    "words = [\"abhishek\",\"akash\",\"aman\",\"ayush\"]\n",
    "lenghts=[len(word) for word in words ] \n",
    "print(lenghts)"
   ]
  },
  {
   "cell_type": "code",
   "execution_count": null,
   "metadata": {},
   "outputs": [
    {
     "name": "stdout",
     "output_type": "stream",
     "text": [
      "[1, 2, 3, 4, 5]\n",
      "[1, 2, 3, 4, 5, 1, 2, 3, 4, 5]\n"
     ]
    },
    {
     "data": {
      "text/plain": [
       "list"
      ]
     },
     "execution_count": 13,
     "metadata": {},
     "output_type": "execute_result"
    }
   ],
   "source": [
    "### List conversion from touple\n",
    "\n",
    "touple=[1,2,3,4,5]\n",
    "lists= list(touple)\n",
    "type(lists)\n",
    "\n",
    "print(touple[:5])\n",
    "\n",
    "conactination=touple+lists\n",
    "print(conactination)\n",
    "type(conactination)"
   ]
  },
  {
   "cell_type": "code",
   "execution_count": null,
   "metadata": {},
   "outputs": [
    {
     "name": "stdout",
     "output_type": "stream",
     "text": [
      "hello\n",
      "True\n",
      "345\n"
     ]
    }
   ],
   "source": [
    "nums=[1 , 2 ,3 ,4 ,5 ,6]\n",
    "### Unpacking In Touple\n",
    "packed_touple = \"hello\", True,345\n",
    "\n",
    "x , y , z = packed_touple\n",
    "print(x)\n",
    "print(y)\n",
    "print(z)"
   ]
  },
  {
   "cell_type": "code",
   "execution_count": null,
   "metadata": {},
   "outputs": [
    {
     "name": "stdout",
     "output_type": "stream",
     "text": [
      "1\n",
      "[2, 3, 4, 5, 6]\n",
      "7\n"
     ]
    }
   ],
   "source": [
    "numbers = (1 ,2 ,3 ,4 , 5,6,7)\n",
    "first , *second,third=numbers\n",
    "\n",
    "print(first)\n",
    "print(second)\n",
    "print(third)"
   ]
  },
  {
   "cell_type": "code",
   "execution_count": null,
   "metadata": {},
   "outputs": [
    {
     "name": "stdout",
     "output_type": "stream",
     "text": [
      "['Abhishek', 'Akash', 'Aman']\n",
      "Akash\n",
      "['Abhishek', 'Akash', 'Aman']\n"
     ]
    }
   ],
   "source": [
    "##nested listss\n",
    "\n",
    "lst = [[\"Abhishek\",\"Akash\",\"Aman\"],[True,False, True],[1 , 2,3 ,4 ,5]]\n",
    "print(lst[0])\n",
    "print(lst[0][1])\n",
    "print(lst[0][:3])"
   ]
  },
  {
   "cell_type": "code",
   "execution_count": null,
   "metadata": {},
   "outputs": [
    {
     "data": {
      "text/plain": [
       "('Abhishek', 'Akash')"
      ]
     },
     "execution_count": 10,
     "metadata": {},
     "output_type": "execute_result"
    }
   ],
   "source": [
    "## nested touple\n",
    "\n",
    "nested_touple = ((\"Abhishek\",\"Akash\"),(True),(456))\n",
    "nested_touple[0]"
   ]
  },
  {
   "cell_type": "code",
   "execution_count": null,
   "metadata": {},
   "outputs": [
    {
     "name": "stdout",
     "output_type": "stream",
     "text": [
      "('Abhishek', 'Akash')\n",
      "True\n",
      "456\n"
     ]
    }
   ],
   "source": [
    "## iterating over nested touple\n",
    "\n",
    "for item in nested_touple:\n",
    "    print(item)"
   ]
  },
  {
   "cell_type": "markdown",
   "metadata": {},
   "source": [
    "SETS IN PYTHON \n",
    "sets are built in data type in python used to store collections of uniques items, They are unorederd meaning that the elements do not follow a specific order , and they fo not allow duplicate elememnts , sets are useful for membership tests , eleminating duplicate entries and performing mathematical set operators like union , intersection , difference and symmetric difference "
   ]
  },
  {
   "cell_type": "code",
   "execution_count": null,
   "metadata": {},
   "outputs": [
    {
     "name": "stdout",
     "output_type": "stream",
     "text": [
      "ABHISHEK\n"
     ]
    }
   ],
   "source": [
    "def change_case(str):\n",
    "    return str.upper()\n",
    "\n",
    "res =change_case(\"abhishek\")\n",
    "print(res)"
   ]
  },
  {
   "cell_type": "code",
   "execution_count": null,
   "metadata": {},
   "outputs": [
    {
     "name": "stdout",
     "output_type": "stream",
     "text": [
      "['ABHISHEK', 'AKASH', 'AMAN']\n"
     ]
    }
   ],
   "source": [
    "lists = (\"Abhishek\",\"akash\",\"aman\")\n",
    "\n",
    "def change_str(list):\n",
    "   return [ item.upper() for item in lists]\n",
    "    \n",
    "result= change_str(lists)\n",
    "\n",
    "print(result)\n"
   ]
  },
  {
   "cell_type": "code",
   "execution_count": null,
   "metadata": {},
   "outputs": [
    {
     "name": "stdout",
     "output_type": "stream",
     "text": [
      "True\n"
     ]
    }
   ],
   "source": [
    "#Chexking if a word is plaindrom or not \n",
    "def is_palind(str):\n",
    "    str = str.lower()\n",
    "    return str == str[::-1]\n",
    "\n",
    "ans = is_palind(\"Aba\")\n",
    "print(ans)"
   ]
  },
  {
   "cell_type": "code",
   "execution_count": null,
   "metadata": {},
   "outputs": [
    {
     "name": "stdout",
     "output_type": "stream",
     "text": [
      "Time taken by 'complex_calculation': 0.0020 seconds\n",
      "333283335000\n",
      "Time taken by 'complex_calculation': 0.0150 seconds\n",
      "333328333350000\n",
      "Time taken by 'complex_calculation': 0.1670 seconds\n",
      "333332833333500000\n"
     ]
    }
   ],
   "source": [
    "import time\n",
    "\n",
    "# Step 1: Define the decorator\n",
    "def timer_decorator(func):\n",
    "    def wrapper(*args, **kwargs):\n",
    "        start = time.time()\n",
    "        result = func(*args, **kwargs)\n",
    "        end = time.time()\n",
    "        print(f\"Time taken by '{func.__name__}': {end - start:.4f} seconds\")\n",
    "        return result\n",
    "    return wrapper\n",
    "\n",
    "# Step 2: Create a function that does something complex\n",
    "@timer_decorator\n",
    "def complex_calculation(n):\n",
    "    total = 0\n",
    "    for i in range(n):\n",
    "        total += i ** 2  # some heavy computation\n",
    "    return total\n",
    "\n",
    "# Step 3: Test with different inputs\n",
    "print(complex_calculation(10000))\n",
    "print(complex_calculation(100000))\n",
    "print(complex_calculation(1000000))\n"
   ]
  },
  {
   "cell_type": "code",
   "execution_count": null,
   "metadata": {},
   "outputs": [],
   "source": []
  },
  {
   "cell_type": "code",
   "execution_count": null,
   "metadata": {},
   "outputs": [
    {
     "data": {
      "text/plain": [
       "9"
      ]
     },
     "execution_count": 13,
     "metadata": {},
     "output_type": "execute_result"
    }
   ],
   "source": [
    "from package.math import addition\n",
    "addition(5,4)\n"
   ]
  },
  {
   "cell_type": "code",
   "execution_count": null,
   "metadata": {},
   "outputs": [
    {
     "name": "stdout",
     "output_type": "stream",
     "text": [
      "hii i am abhishek\n",
      "hii there\n"
     ]
    }
   ],
   "source": [
    "with open(\"example.txt\",'r') as file:\n",
    "    content = file.read()\n",
    "    print(content)\n"
   ]
  },
  {
   "cell_type": "code",
   "execution_count": null,
   "metadata": {},
   "outputs": [
    {
     "name": "stdout",
     "output_type": "stream",
     "text": [
      "line3, words14 ,chars67\n"
     ]
    }
   ],
   "source": [
    "def char_word_count(file_path):\n",
    "    with open(file_path,'r') as file:\n",
    "        lines = file.readlines()\n",
    "        len_count=len(lines)\n",
    "        word_count= sum((len(line.split()))for line in lines)\n",
    "        char_count= sum( len(line)for line in lines)\n",
    "\n",
    "    return len_count , word_count , char_count\n",
    "\n",
    "file_path=\"example.txt\"\n",
    "lines , words , chars = char_word_count(file_path)    \n",
    "print(f\"line{lines}, words{words} ,chars{chars}\")"
   ]
  },
  {
   "cell_type": "code",
   "execution_count": null,
   "metadata": {},
   "outputs": [
    {
     "name": "stdout",
     "output_type": "stream",
     "text": [
      "Please enter value greater than zero\n"
     ]
    }
   ],
   "source": [
    "#exception handling \n",
    "try:\n",
    "    num1 =int(input(\"enter the number\"))\n",
    "    num2 =int(input(\"Enter second number \"))\n",
    "    result = num1/num2\n",
    "except ZeroDivisionError:\n",
    "    print(\"Please enter second value greater than zero\")\n",
    "except Exception as abhi:\n",
    "    print(abhi)\n",
    "else:\n",
    "    print(f\"code gets executed and the answer is {result}\")    \n",
    "\n"
   ]
  },
  {
   "cell_type": "code",
   "execution_count": null,
   "metadata": {},
   "outputs": [
    {
     "name": "stdout",
     "output_type": "stream",
     "text": [
      "hii i am abhishek\n",
      "hii there\n",
      "brother i am lost brother in the chaos \n"
     ]
    }
   ],
   "source": [
    "#file handling using excpetion tricks\n",
    "try:\n",
    "    file=open('example.txt','r')\n",
    "    content=file.read()\n",
    "except Exception as ex:\n",
    "    print(ex)\n",
    "else:\n",
    "    print(content)\n",
    "finally:\n",
    "    file.close()            "
   ]
  },
  {
   "cell_type": "code",
   "execution_count": null,
   "metadata": {},
   "outputs": [
    {
     "name": "stdout",
     "output_type": "stream",
     "text": [
      "The value is 8\n",
      "Code execution completed\n"
     ]
    }
   ],
   "source": [
    "def key_value_find(my_dict, key):\n",
    "    try:\n",
    "        if key in my_dict:\n",
    "            value = my_dict[key]\n",
    "        else:\n",
    "            raise KeyError(f\"'{key}' not found in dictionary\")\n",
    "    except Exception as ex:\n",
    "        print(\"Error:\", ex)\n",
    "    else:\n",
    "        print(f\"The value is {value}\") \n",
    "    finally:\n",
    "        print(\"Code execution completed\")\n",
    "\n",
    "# Sample dictionary\n",
    "dicts = {\n",
    "    \"name\": \"Abhi\",\n",
    "    \"class\": 8\n",
    "}             \n",
    "\n",
    "key_word = \"class\"\n",
    "\n",
    "key_value_find(dicts, key_word)\n"
   ]
  },
  {
   "cell_type": "code",
   "execution_count": null,
   "metadata": {},
   "outputs": [
    {
     "name": "stdout",
     "output_type": "stream",
     "text": [
      "4\n",
      "This bmw car is autonomous car which can drive itself\n",
      "This TATA Nano car is autonomous car which can drive itself\n",
      "TATA Nano 5\n"
     ]
    }
   ],
   "source": [
    "##Class and Objects {OOPS}\n",
    "#Class - an class is an blueprint for creating objects , attributes , method\n",
    "\n",
    "class Car: #Name of that partticular class\n",
    "    ##It is the constructor\n",
    "    def __init__(self , name , windows):\n",
    "        self.name =name ## These two are the attributes of the particular class\n",
    "        self.windows=windows \n",
    "\n",
    "    ##We can create methods for that class also   \n",
    "    def self_Drive(self):\n",
    "        print(f\"This {self.name} car is autonomous car which can drive itself\")\n",
    "        #So finally we have cretaed a class which have some attributes and methods over there\n",
    "        ## now we can use it \n",
    "car1=Car(\"bmw\",4)\n",
    "print(car1.windows)\n",
    "car1.self_Drive()  \n",
    "car2 =Car(\"TATA Nano\" ,5)\n",
    "car2.self_Drive()\n",
    "print(car2.name ,car2.windows)"
   ]
  },
  {
   "cell_type": "code",
   "execution_count": null,
   "metadata": {},
   "outputs": [
    {
     "name": "stdout",
     "output_type": "stream",
     "text": [
      "You have deposited 4000 now your account have 9000 money\n",
      "you have withdraw 5000 Now your account have 4000 fund\n"
     ]
    },
    {
     "data": {
      "text/plain": [
       "4000"
      ]
     },
     "execution_count": 15,
     "metadata": {},
     "output_type": "execute_result"
    }
   ],
   "source": [
    "class bankAccount:\n",
    "    def __init__(self , owner,balance=0):\n",
    "        self.owner=owner\n",
    "        self.balance=balance\n",
    "    def Deposit(self ,amount):\n",
    "        self.balance =self.balance + amount\n",
    "        print(f\"You have deposited {amount} now your account have {self.balance} money\")\n",
    "    def withDraw(self , amount):\n",
    "        if amount > self.balance:\n",
    "            print(\"Your account doesn't have sufficient funds\")\n",
    "        else:\n",
    "            self.balance = self.balance - amount\n",
    "            print(f\"you have withdraw {amount} Now your account have {self.balance} fund\")\n",
    "    def total_balance(self):\n",
    "        return self.balance \n",
    "\n",
    "account_1=bankAccount(\"Abhishek\",5000) \n",
    "account_1.Deposit(4000) \n",
    "account_1.withDraw(5000)      \n",
    "account_1.total_balance()        \n"
   ]
  },
  {
   "cell_type": "code",
   "execution_count": null,
   "metadata": {},
   "outputs": [
    {
     "name": "stdout",
     "output_type": "stream",
     "text": [
      "BMW\n",
      "X-Series\n",
      "2025\n",
      "Your car BMW has just started\n"
     ]
    }
   ],
   "source": [
    "#Assignment-1\n",
    "class Car:\n",
    "    def __init__(self,name ,model , year):\n",
    "        self.name=name\n",
    "        self.model=model\n",
    "        self.year=year\n",
    "    def start_engine(self):\n",
    "        print(f\"Your car {self.name} has just started\")    \n",
    "\n",
    "car1 =  Car(\"BMW\" ,\"X-Series\" ,2025)\n",
    "print(car1.name)\n",
    "print(car1.model)\n",
    "print(car1.year)\n",
    "car1.start_engine()\n"
   ]
  },
  {
   "cell_type": "code",
   "execution_count": null,
   "metadata": {},
   "outputs": [
    {
     "name": "stdout",
     "output_type": "stream",
     "text": [
      "congrats Abhishek you have top tha class\n"
     ]
    }
   ],
   "source": [
    "class Student:\n",
    "    def __init__(self , name , age ):\n",
    "        self.name = name\n",
    "        self.age= age\n",
    "    def check_result(self,marks):\n",
    "        if(marks >= 60 and marks <70):\n",
    "            print(\"You have been passed\")\n",
    "        elif(marks >70 and marks<90):\n",
    "            print(f\"great {self.name} you got good marks\")\n",
    "        elif(marks >= 90 and marks<=100):\n",
    "            print(f\"congrats {self.name} you have top tha class\")  \n",
    "        else:\n",
    "            print(\"You enter the wrong data\")\n",
    "student_1=Student(\"Abhishek\",19)\n",
    "student_1.check_result(90)                   \n",
    "\n"
   ]
  },
  {
   "cell_type": "code",
   "execution_count": null,
   "metadata": {},
   "outputs": [
    {
     "name": "stdout",
     "output_type": "stream",
     "text": [
      "105.0\n"
     ]
    }
   ],
   "source": [
    "class Calculator:\n",
    "    def __init__(self, number):\n",
    "        self.number = number\n",
    "        self.value = number  # Initialize the value attribute with the initial number\n",
    "        \n",
    "    def addition(self, number):\n",
    "        self.value += number  # Use the passed number for addition\n",
    "        return self\n",
    "    \n",
    "    def subtraction(self, number):\n",
    "        self.value -= number  # Use the passed number for subtraction\n",
    "        return self\n",
    "    \n",
    "    def division(self, number):\n",
    "        if number != 0:\n",
    "            self.value /= number  # Use the passed number for division\n",
    "            return self\n",
    "        else:\n",
    "            print(\"Zero can not be divided by any number\")\n",
    "            return self\n",
    "\n",
    "first_calc = Calculator(100)\n",
    "result = first_calc.addition(10).subtraction(5).division(1).value  # Access the final value\n",
    "print(result)"
   ]
  },
  {
   "cell_type": "code",
   "execution_count": null,
   "metadata": {},
   "outputs": [],
   "source": [
    "##Inheritance in OOPS\n",
    "#type - herbivores , carnivores , omnivores\n",
    "#movement - whether animal flies or walk on foot\n",
    "class Animal:\n",
    "    def __init__(self , type , movement):\n",
    "        self.type =type\n",
    "        self.movement =movement\n",
    "\n",
    "    def speak(self,sound):\n",
    "        print(f\"the animal speaks like {sound}\")    \n"
   ]
  },
  {
   "cell_type": "code",
   "execution_count": null,
   "metadata": {},
   "outputs": [
    {
     "name": "stdout",
     "output_type": "stream",
     "text": [
      "my dog Ronny is Ominvores \n",
      "My dog Ronny is good in nature\n",
      "Ronny\n",
      "the animal speaks like Woof Woof\n"
     ]
    }
   ],
   "source": [
    "class Dog(Animal):\n",
    "    def __init__(self,type,movement ,name,owner):\n",
    "        super().__init__(type ,movement)\n",
    "        self.name= name\n",
    "        self.owner=owner\n",
    "    def charCter(self ,char_cter):\n",
    "        print(f\"My dog {self.name} is good in nature\")  \n",
    "\n",
    "dog_1=Dog(\"Ominvores\",\"Footwalker\",\"Ronny\",\"Abhishek\") \n",
    "print(f\"my dog {dog_1.name} is {dog_1.type} \")\n",
    "dog_1.charCter(\"Nice\")\n",
    "print(dog_1.name)      \n",
    "dog_1.speak(\"Woof Woof\")"
   ]
  },
  {
   "cell_type": "code",
   "execution_count": null,
   "metadata": {},
   "outputs": [
    {
     "name": "stdout",
     "output_type": "stream",
     "text": [
      "the area is 50\n",
      "the area is 254.34\n"
     ]
    }
   ],
   "source": [
    "#Parent classs\n",
    "class shape:\n",
    "    def shape(self):\n",
    "        return\"hellow\"    \n",
    "\n",
    "#DErived class 1\n",
    "class Rectangle(shape):\n",
    "    def __init__(self, height, width):\n",
    "        self.height=height\n",
    "        self.width=width\n",
    "\n",
    "    def area(self):\n",
    "        return self.height * self.width\n",
    "#Derived class\n",
    "class Circle(shape):\n",
    "    def __init__(self, radius):\n",
    "        self.radius=radius \n",
    "\n",
    "    def area(self):\n",
    "        return 3.14*self.radius*self.radius\n",
    "    \n",
    "\n",
    "##Function that defines polymorphism    \n",
    "def print_area(shape):\n",
    "    print(f\"the area is {shape.area()}\")\n",
    "\n",
    "rectangle=Rectangle(10,5)\n",
    "circle=Circle(9)    \n",
    "\n",
    "print_area(rectangle)\n",
    "print_area(circle)\n",
    "\n"
   ]
  },
  {
   "cell_type": "code",
   "execution_count": null,
   "metadata": {},
   "outputs": [
    {
     "name": "stdout",
     "output_type": "stream",
     "text": [
      "15\n"
     ]
    }
   ],
   "source": [
    "class Number:\n",
    "    def __init__(self, num):\n",
    "        self.num = num\n",
    "    \n",
    "    def __add__(self, other):\n",
    "        return Number(self.num + other.num)\n",
    "\n",
    "n1 = Number(5)\n",
    "n2 = Number(10)\n",
    "\n",
    "result = n1 + n2  # Overloading the \"+\" operator\n",
    "print(result.num)  # Output: 15"
   ]
  },
  {
   "cell_type": "code",
   "execution_count": null,
   "metadata": {},
   "outputs": [
    {
     "name": "stdout",
     "output_type": "stream",
     "text": [
      "Car engine get started\n",
      "None\n"
     ]
    }
   ],
   "source": [
    "##Polymorphism using abstract method\n",
    "from abc import ABC , abstractmethod\n",
    "\n",
    "class Vehicle(ABC):\n",
    "    @abstractmethod\n",
    "    def start_engine(self):\n",
    "        pass\n",
    "##derived vlass 1    \n",
    "class Motorcycle(Vehicle):\n",
    "    def start_engine(self):\n",
    "        print(\"The Motorcycle engine started \")\n",
    "\n",
    " ##derived class 2\n",
    "class Car(Vehicle):\n",
    "    def start_engine(self):\n",
    "        print(\"Car engine get started\")\n",
    "\n",
    "##funcrtion that demonstarte the polymorphism\n",
    "def start_vehicle(Vehicle):\n",
    "    print(Vehicle.start_engine())\n",
    "\n",
    "car = Car()\n",
    "start_vehicle(car)\n",
    "\n",
    "\n",
    "\n"
   ]
  },
  {
   "cell_type": "code",
   "execution_count": null,
   "metadata": {},
   "outputs": [
    {
     "ename": "AttributeError",
     "evalue": "'Person' object has no attribute '__name'",
     "output_type": "error",
     "traceback": [
      "\u001b[1;31m---------------------------------------------------------------------------\u001b[0m",
      "\u001b[1;31mAttributeError\u001b[0m                            Traceback (most recent call last)",
      "Cell \u001b[1;32mIn[6], line 10\u001b[0m\n\u001b[0;32m      7\u001b[0m     \u001b[38;5;28;01mreturn\u001b[39;00m person\u001b[38;5;241m.\u001b[39m__name\n\u001b[0;32m      9\u001b[0m person\u001b[38;5;241m=\u001b[39mPerson(\u001b[38;5;124m\"\u001b[39m\u001b[38;5;124mAbhishek\u001b[39m\u001b[38;5;124m\"\u001b[39m,\u001b[38;5;241m19\u001b[39m) \n\u001b[1;32m---> 10\u001b[0m \u001b[43mget_person\u001b[49m\u001b[43m(\u001b[49m\u001b[43mperson\u001b[49m\u001b[43m)\u001b[49m \n",
      "Cell \u001b[1;32mIn[6], line 7\u001b[0m, in \u001b[0;36mget_person\u001b[1;34m(person)\u001b[0m\n\u001b[0;32m      6\u001b[0m \u001b[38;5;28;01mdef\u001b[39;00m \u001b[38;5;21mget_person\u001b[39m(person):\n\u001b[1;32m----> 7\u001b[0m     \u001b[38;5;28;01mreturn\u001b[39;00m \u001b[43mperson\u001b[49m\u001b[38;5;241;43m.\u001b[39;49m\u001b[43m__name\u001b[49m\n",
      "\u001b[1;31mAttributeError\u001b[0m: 'Person' object has no attribute '__name'"
     ]
    }
   ],
   "source": [
    "##ENCAPSULATION ~~\n",
    "class Person:\n",
    "    def __init__(self , name ,age):\n",
    "        self.__name=name#Private varibale\n",
    "        self.__age=age#private variable\n",
    "def get_person(person):\n",
    "    return person.__name\n",
    "\n",
    "person=Person(\"Abhishek\",19) \n",
    "get_person(person) \n",
    "     \n",
    "     \n"
   ]
  },
  {
   "cell_type": "code",
   "execution_count": null,
   "metadata": {},
   "outputs": [
    {
     "data": {
      "text/plain": [
       "['__class__',\n",
       " '__delattr__',\n",
       " '__dict__',\n",
       " '__dir__',\n",
       " '__doc__',\n",
       " '__eq__',\n",
       " '__format__',\n",
       " '__ge__',\n",
       " '__getattribute__',\n",
       " '__getstate__',\n",
       " '__gt__',\n",
       " '__hash__',\n",
       " '__init__',\n",
       " '__init_subclass__',\n",
       " '__le__',\n",
       " '__lt__',\n",
       " '__module__',\n",
       " '__ne__',\n",
       " '__new__',\n",
       " '__reduce__',\n",
       " '__reduce_ex__',\n",
       " '__repr__',\n",
       " '__setattr__',\n",
       " '__sizeof__',\n",
       " '__str__',\n",
       " '__subclasshook__',\n",
       " '__weakref__']"
      ]
     },
     "execution_count": 4,
     "metadata": {},
     "output_type": "execute_result"
    }
   ],
   "source": [
    "dir(Person)"
   ]
  },
  {
   "cell_type": "code",
   "execution_count": null,
   "metadata": {},
   "outputs": [],
   "source": [
    "class Person:\n",
    "    def __init__(self , name ,age):\n",
    "        self.name=name#Public varibale\n",
    "        self.age=age#public variable\n",
    "def get_person(person):\n",
    "    return person.__name\n",
    "\n",
    "person=Person(\"Abhishek\",19) \n",
    "get_person(person) \n",
    "     \n",
    "     \n"
   ]
  },
  {
   "cell_type": "code",
   "execution_count": null,
   "metadata": {},
   "outputs": [
    {
     "name": "stdout",
     "output_type": "stream",
     "text": [
      "56\n"
     ]
    }
   ],
   "source": [
    "##Encapsulation with Getter and setter method\n",
    "class Person:\n",
    "    def __init__(self ,name,age):\n",
    "        self.__name=name  ##Private Access modifier\n",
    "        self.__age=age ##Private variable\n",
    "\n",
    "    ##Getter method\n",
    "    def getter(self):\n",
    "        return self.__name\n",
    "    ##setter method\n",
    "    def setter(self,name):\n",
    "        self.__name =name\n",
    "\n",
    "    def get_age(self):\n",
    "        return self.__age \n",
    "    def set_age(self,age):\n",
    "        if age >0:\n",
    "           self.__age=age \n",
    "        else:\n",
    "            print(\"age can not be negative\")\n",
    "\n",
    "person = Person(\"Abhishek\", 56)\n",
    "print(person.get_age())             "
   ]
  },
  {
   "cell_type": "markdown",
   "metadata": {},
   "source": [
    "##Abstraction in Python"
   ]
  },
  {
   "cell_type": "markdown",
   "metadata": {},
   "source": []
  },
  {
   "cell_type": "code",
   "execution_count": null,
   "metadata": {},
   "outputs": [],
   "source": [
    "Abstraction is the concept of hiding  the complex implementation details and showing only the necessary features of an object , This helps in reducing programming complexity and effort "
   ]
  },
  {
   "cell_type": "code",
   "execution_count": null,
   "metadata": {},
   "outputs": [
    {
     "name": "stdout",
     "output_type": "stream",
     "text": [
      "The vehicle is used for driving\n",
      "The car get started \n"
     ]
    }
   ],
   "source": [
    "from abc import ABC , abstractmethod\n",
    "\n",
    "##Abstarct base class \n",
    "class Vehicle (ABC):\n",
    "    def drive(self):\n",
    "        print(\"The vehicle is used for driving\")\n",
    "\n",
    "    @abstractmethod\n",
    "    def start_engine(self):\n",
    "        pass \n",
    "\n",
    "class Car(Vehicle):\n",
    "    def start_engine(self):\n",
    "        print(\"The car get started \")\n",
    "\n",
    "    def operate_vehicle(vehicle):\n",
    "        vehicle.start_engine()\n",
    "\n",
    "car = Car()\n",
    "car.drive()\n",
    "car.start_engine()            \n",
    "           "
   ]
  },
  {
   "cell_type": "code",
   "execution_count": null,
   "metadata": {},
   "outputs": [
    {
     "name": "stdout",
     "output_type": "stream",
     "text": [
      "Tonny\n",
      "Hi i am a dog my name is Tonny and i am form this Homo-sapiens breed \n",
      "I used to bark likebhau bhau\n"
     ]
    }
   ],
   "source": [
    "class Animal:\n",
    "    def __init__(self,name , species):\n",
    "        self.name=name\n",
    "        self.species=species\n",
    "    def print_name(self):\n",
    "        print(self.name)    \n",
    "\n",
    "##Derived Class\n",
    "class Dog(Animal):\n",
    "    def __init__(self,name,species,breed):\n",
    "        super().__init__(name , species)\n",
    "        self.breed = breed\n",
    "    def __str__(self):\n",
    "        print(f\"Hi i am a dog my name is {self.name} and i am form this {self.breed} breed \")    \n",
    "    def sound_(self):\n",
    "        print(\"I used to bark likebhau bhau\")\n",
    "\n",
    "\n",
    "dog = Dog(\"Tonny\",\"Rot-viller\",\"Homo-sapiens\") \n",
    "dog.print_name()\n",
    "dog.__str__()\n",
    "dog.sound_()\n",
    "     \n",
    "        \n",
    "\n"
   ]
  },
  {
   "cell_type": "code",
   "execution_count": null,
   "metadata": {},
   "outputs": [
    {
     "name": "stdout",
     "output_type": "stream",
     "text": [
      "Athelete Name: Abhishek\n",
      "Yes, it's fast running that I am a runner.\n",
      "Yes i can also walk along with running\n",
      "Yes i train for that 4 hours\n"
     ]
    }
   ],
   "source": [
    "class Runner:\n",
    "    def __init__(self, run):\n",
    "        self.run = run\n",
    "\n",
    "    def runner(self):\n",
    "        print(f\"Yes, it's {self.run} that I am a runner.\")\n",
    "\n",
    "class Walker:\n",
    "    def __init__(self, walk):\n",
    "        self.walk = walk\n",
    "\n",
    "    def walker(self):\n",
    "        print(f\"Yes, it's {self.walk} that I am also a walker.\")\n",
    "\n",
    "class Athelete(Runner, Walker):\n",
    "    def __init__(self, name, run, walk , train_hours):\n",
    "        Runner.__init__(self, run)  # Explicitly call Runner's constructor\n",
    "        Walker.__init__(self, walk)  # Explicitly call Walker's constructor\n",
    "        self.name = name\n",
    "        self.train_hours=train_hours\n",
    "        print(f\"Athelete Name: {self.name}\")\n",
    "\n",
    "    def inherited(self):\n",
    "        self.runner()  # Calling Runner's method\n",
    "        self.walker()  # Calling Walker's method\n",
    "    def walker(self):\n",
    "        print(f\"Yes i can also walk along with running\")\n",
    "\n",
    "    def train_time(self):\n",
    "        print(f\"Yes i train for that {self.train_hours} hours\")    \n",
    "# Creating an instance of Athelete\n",
    "athelete = Athelete(\"Abhishek\", \"fast running\", \"slow walking\",4)\n",
    "athelete.inherited()\n",
    "athelete.train_time()\n",
    "\n"
   ]
  },
  {
   "cell_type": "code",
   "execution_count": null,
   "metadata": {},
   "outputs": [],
   "source": [
    "class A:\n",
    "    def __init__(self):\n",
    "        pass\n",
    "    def show(self):\n",
    "        print(\"Inherited from Class A\")\n",
    "\n",
    "class B(A):\n",
    "    def __init__(self,):\n",
    "\n",
    "        pass\n",
    "    def show(self):\n",
    "        print(\"Yes i m being called from class B\")\n",
    "\n",
    "class C(A):\n",
    "\n",
    "        "
   ]
  },
  {
   "cell_type": "markdown",
   "metadata": {},
   "source": [
    "## magic methods in python"
   ]
  },
  {
   "cell_type": "code",
   "execution_count": 49,
   "metadata": {},
   "outputs": [
    {
     "data": {
      "text/plain": [
       "['__class__',\n",
       " '__delattr__',\n",
       " '__dict__',\n",
       " '__dir__',\n",
       " '__doc__',\n",
       " '__eq__',\n",
       " '__format__',\n",
       " '__ge__',\n",
       " '__getattribute__',\n",
       " '__getstate__',\n",
       " '__gt__',\n",
       " '__hash__',\n",
       " '__init__',\n",
       " '__init_subclass__',\n",
       " '__le__',\n",
       " '__lt__',\n",
       " '__module__',\n",
       " '__ne__',\n",
       " '__new__',\n",
       " '__reduce__',\n",
       " '__reduce_ex__',\n",
       " '__repr__',\n",
       " '__setattr__',\n",
       " '__sizeof__',\n",
       " '__str__',\n",
       " '__subclasshook__',\n",
       " '__weakref__']"
      ]
     },
     "execution_count": 49,
     "metadata": {},
     "output_type": "execute_result"
    }
   ],
   "source": [
    "class A:\n",
    "    pass\n",
    "\n",
    "person = A()\n",
    "dir(person)"
   ]
  },
  {
   "cell_type": "markdown",
   "metadata": {},
   "source": [
    "So these are all tye magic methods in python"
   ]
  },
  {
   "cell_type": "code",
   "execution_count": 50,
   "metadata": {},
   "outputs": [
    {
     "name": "stdout",
     "output_type": "stream",
     "text": [
      "Abhi ,19\n"
     ]
    }
   ],
   "source": [
    "class Person:\n",
    "    def __init__(self,name ,age):\n",
    "        self.name=name\n",
    "        self.age=age\n",
    "    def __str__(self):\n",
    "        return f\"{self.name} ,{self.age}\"\n",
    "    def __repr__(self):\n",
    "        return f\"{self.name}, {self.age}\"\n",
    "Abhishek=Person(\"Abhi\",19)\n",
    "print(Abhishek)        "
   ]
  },
  {
   "cell_type": "markdown",
   "metadata": {},
   "source": [
    "###Method Overloading"
   ]
  },
  {
   "cell_type": "code",
   "execution_count": null,
   "metadata": {},
   "outputs": [],
   "source": []
  },
  {
   "cell_type": "markdown",
   "metadata": {},
   "source": [
    "Custom Exception"
   ]
  },
  {
   "cell_type": "code",
   "execution_count": 51,
   "metadata": {},
   "outputs": [
    {
     "ename": "SyntaxError",
     "evalue": "cannot assign to literal (2200972578.py, line 2)",
     "output_type": "error",
     "traceback": [
      "\u001b[1;36m  Cell \u001b[1;32mIn[51], line 2\u001b[1;36m\u001b[0m\n\u001b[1;33m    age = 2024 = year\u001b[0m\n\u001b[1;37m          ^\u001b[0m\n\u001b[1;31mSyntaxError\u001b[0m\u001b[1;31m:\u001b[0m cannot assign to literal\n"
     ]
    }
   ],
   "source": [
    "\n",
    "\n",
    "year=int(input(\"Enter the year of born\"))\n",
    "age = 2024 = year\n",
    "\n",
    "try:\n",
    "    if age >=20 and age <= 30:\n",
    "        print(\"You're valid to fill the exam form\")\n",
    "    else raise dobexception:   \n",
    "except dobexception:\n",
    "    print('Sorry you are unable to fill the exam form ') "
   ]
  },
  {
   "cell_type": "markdown",
   "metadata": {},
   "source": [
    "##Method overriding"
   ]
  },
  {
   "cell_type": "code",
   "execution_count": null,
   "metadata": {},
   "outputs": [
    {
     "name": "stdout",
     "output_type": "stream",
     "text": [
      "Method from A\n",
      "Method from B\n",
      "Method from C\n"
     ]
    }
   ],
   "source": [
    "class A:\n",
    "    def show(self):\n",
    "        print(\"Method from A\")\n",
    "\n",
    "class B(A):\n",
    "    def show(self):\n",
    "        super().show()\n",
    "        print(\"Method from B\")\n",
    "\n",
    "class C(B):\n",
    "    def show(self):\n",
    "        super().show()\n",
    "        print(\"Method from C\")\n",
    "\n",
    "obj = C()\n",
    "obj.show()"
   ]
  },
  {
   "cell_type": "markdown",
   "metadata": {},
   "source": [
    "QUESTION -1 "
   ]
  },
  {
   "cell_type": "code",
   "execution_count": null,
   "metadata": {},
   "outputs": [
    {
     "name": "stdout",
     "output_type": "stream",
     "text": [
      "The area is 7850.0\n",
      "The area is 1904\n",
      "7850.0\n"
     ]
    }
   ],
   "source": [
    "class Shape:\n",
    "    def __init__(self):  # Base constructor\n",
    "        pass\n",
    "    \n",
    "    def area(self):\n",
    "        pass  # Abstract method for area\n",
    "\n",
    "class Rectangle(Shape):\n",
    "    def __init__(self, length, breadth):\n",
    "        super().__init__()  # Calling parent constructor\n",
    "        self.length = length\n",
    "        self.breadth = breadth\n",
    "    \n",
    "    def area(self):\n",
    "        return self.length * self.breadth\n",
    "\n",
    "class Circle(Shape):\n",
    "    def __init__(self, radius):\n",
    "        super().__init__()  # Calling parent constructor\n",
    "        self.radius = radius\n",
    "    \n",
    "    def area(self):\n",
    "        return 3.14 * self.radius * self.radius  # Correct formula for circle area\n",
    "\n",
    "def print_area(shape):\n",
    "    print(f\"The area is {shape.area()}\")\n",
    "\n",
    "# Creating and testing objects\n",
    "circle_obj = Circle(50)\n",
    "print_area(circle_obj)  # Output: The area is 7850.0\n",
    "rect_obj=Rectangle(34,56)\n",
    "print_area(rect_obj)\n",
    "\n",
    "def describe_area(arg):\n",
    "    print(f\"{arg.area()}\")\n",
    "describe_area(circle_obj)\n"
   ]
  },
  {
   "cell_type": "code",
   "execution_count": null,
   "metadata": {},
   "outputs": [
    {
     "name": "stdout",
     "output_type": "stream",
     "text": [
      "Deposited 2000. New balance: 7000\n",
      "Interest for Savings Account: Balance: 7000 * 4%\n",
      "Interest for Current Account: Balance: 10000 * 2%\n"
     ]
    }
   ],
   "source": [
    "from abc import ABC, abstractmethod\n",
    "\n",
    "# 🔹 Abstraction: Abstract class to define account structure\n",
    "class BankAccount(ABC):\n",
    "    def __init__(self, account_holder, balance):\n",
    "        self.account_holder = account_holder  # Public attribute\n",
    "        self.__balance = balance  # Private attribute\n",
    "\n",
    "    @abstractmethod\n",
    "    def calculate_interest(self):\n",
    "        pass  # Must be implemented in subclasses\n",
    "\n",
    "    # 🔹 Encapsulation: Methods to access private data safely\n",
    "    def deposit(self, amount):\n",
    "        if amount > 0:\n",
    "            self.__balance += amount\n",
    "            return f\"Deposited {amount}. New balance: {self.__balance}\"\n",
    "        return \"Invalid deposit amount!\"\n",
    "\n",
    "    def get_balance(self):\n",
    "        return f\"Balance: {self.__balance}\"\n",
    "\n",
    "# 🔹 Polymorphism: Different account types implementing their own logic\n",
    "class SavingsAccount(BankAccount):\n",
    "    def calculate_interest(self):\n",
    "        return f\"Interest for Savings Account: {self.get_balance()} * 4%\"\n",
    "\n",
    "class CurrentAccount(BankAccount):\n",
    "    def calculate_interest(self):\n",
    "        return f\"Interest for Current Account: {self.get_balance()} * 2%\"\n",
    "\n",
    "# Function demonstrating polymorphism\n",
    "def print_interest(account):\n",
    "    print(account.calculate_interest())\n",
    "\n",
    "# Creating objects and testing encapsulation & polymorphism\n",
    "savings = SavingsAccount(\"Alice\", 5000)\n",
    "current = CurrentAccount(\"Bob\", 10000)\n",
    "\n",
    "print(savings.deposit(2000))  # Encapsulation example\n",
    "print_interest(savings)       # Polymorphism example\n",
    "print_interest(current)       # Polymorphism example"
   ]
  },
  {
   "cell_type": "markdown",
   "metadata": {},
   "source": [
    "Question 1"
   ]
  },
  {
   "cell_type": "code",
   "execution_count": null,
   "metadata": {},
   "outputs": [
    {
     "name": "stdout",
     "output_type": "stream",
     "text": [
      "The area of the circle is 78.5\n",
      "The area is 20\n",
      "The area of the circle is 78.5\n",
      "None\n"
     ]
    }
   ],
   "source": [
    "##POLYMORPHISM\n",
    "\n",
    "\n",
    "class Shape:\n",
    "    def __init__(self):\n",
    "        pass\n",
    "    def area():\n",
    "        return \"the area is\"\n",
    "class Circle(Shape):\n",
    "    def __init__(self,radius):\n",
    "        self.radius=radius\n",
    "    def area(self):\n",
    "        print(f\"The area of the circle is {3.14 * self.radius * self.radius}\")\n",
    "\n",
    "class Rectangle(Shape):\n",
    "    def __init__(self,length ,height):\n",
    "        self.length=length\n",
    "        self.height=height\n",
    "    def area(self):\n",
    "        print(f\"The area is {self.length * self.height}\");\n",
    "\n",
    "area_cir = Circle(5)\n",
    "area_cir.area()   \n",
    "area_rect =Rectangle(4,5)\n",
    "area_rect.area()               \n",
    "        \n",
    "def describe_shape(args):\n",
    "    print(f\"{args.area()}\")\n",
    "describe_shape(area_cir)\n",
    "\n",
    "        "
   ]
  },
  {
   "cell_type": "markdown",
   "metadata": {},
   "source": [
    "QUESTION 2"
   ]
  },
  {
   "cell_type": "code",
   "execution_count": null,
   "metadata": {},
   "outputs": [
    {
     "name": "stdout",
     "output_type": "stream",
     "text": [
      "The car engine has started\n",
      "Your car fuel type is Diesel\n",
      "The bike engine has started\n",
      "Your bike fuel type is Petrol\n"
     ]
    }
   ],
   "source": [
    "from abc import ABC, abstractmethod  # Import ABC and abstractmethod\n",
    "\n",
    "# Abstract base class\n",
    "class Vehicle(ABC):\n",
    "    def __init__(self, fuel_type):\n",
    "        self._fuel_type = fuel_type  # Renamed the attribute to avoid conflict\n",
    "\n",
    "    @abstractmethod\n",
    "    def start_engine(self):  # Abstract method\n",
    "        pass\n",
    "\n",
    "# Derived class 1\n",
    "class Car(Vehicle):\n",
    "    def start_engine(self):\n",
    "        print(\"The car engine has started\")\n",
    "\n",
    "    def get_fuel_type(self):  # Renamed the method to avoid conflict\n",
    "        return f\"Your car fuel type is {self._fuel_type}\"\n",
    "\n",
    "# Derived class 2\n",
    "class Bike(Vehicle):\n",
    "    def start_engine(self):\n",
    "        print(\"The bike engine has started\")\n",
    "\n",
    "    def get_fuel_type(self):  # Renamed the method to avoid conflict\n",
    "        return f\"Your bike fuel type is {self._fuel_type}\"\n",
    "\n",
    "# Create instances and call the method\n",
    "start_car = Car(\"Diesel\")  # Pass \"Diesel\" as a string\n",
    "start_car.start_engine()\n",
    "print(start_car.get_fuel_type())  # Call the renamed method\n",
    "\n",
    "start_bike = Bike(\"Petrol\")  # Pass \"Petrol\" as a string\n",
    "start_bike.start_engine()\n",
    "print(start_bike.get_fuel_type())  # Call the renamed method"
   ]
  },
  {
   "cell_type": "code",
   "execution_count": null,
   "metadata": {},
   "outputs": [
    {
     "name": "stdout",
     "output_type": "stream",
     "text": [
      "Your total account balance is 5000\n",
      "You have withdraw 5000 amount\n",
      "Your total account balance is 0\n",
      "you have deposited 10000 amount\n",
      "Your total account balance is 10000\n"
     ]
    }
   ],
   "source": [
    "class BankAccount():\n",
    "    def __init__(self,acc_holder ,acc_number ,amount):\n",
    "        self.acc_holder=acc_holder\n",
    "        self.__acc_number=acc_number\n",
    "        self.__amount=amount\n",
    "    def add_money(self,depo_amount):\n",
    "        self.depo_amount=depo_amount\n",
    "        self.__amount +=depo_amount\n",
    "        print(f\"you have deposited {self.depo_amount} amount\")\n",
    "    def withdrawl(self,with_draw):\n",
    "        self.with_draw=with_draw\n",
    "        self.__amount -=with_draw\n",
    "        print(f\"You have withdraw {self.with_draw} amount\")    \n",
    "    def gettotal(self):\n",
    "        print(f\"Your total account balance is {self.__amount}\")\n",
    "    \n",
    "   \n",
    "acc =BankAccount(\"Abhi\",234089,5000)\n",
    "acc.gettotal()\n",
    "acc.withdrawl(5000)\n",
    "acc.gettotal()\n",
    "acc.add_money(10000)\n",
    "acc.gettotal()"
   ]
  },
  {
   "cell_type": "markdown",
   "metadata": {},
   "source": [
    "Iterator in pyhton\n"
   ]
  },
  {
   "cell_type": "code",
   "execution_count": null,
   "metadata": {},
   "outputs": [
    {
     "data": {
      "text/plain": [
       "<list_iterator at 0x2c826972110>"
      ]
     },
     "execution_count": 29,
     "metadata": {},
     "output_type": "execute_result"
    }
   ],
   "source": [
    "my_list = [1,2,3,4,5,6,8]\n",
    "iterator=iter(my_list)\n",
    "\n",
    "type(iterator)\n",
    "iterator"
   ]
  },
  {
   "cell_type": "code",
   "execution_count": null,
   "metadata": {},
   "outputs": [
    {
     "ename": "StopIteration",
     "evalue": "",
     "output_type": "error",
     "traceback": [
      "\u001b[1;31m---------------------------------------------------------------------------\u001b[0m",
      "\u001b[1;31mStopIteration\u001b[0m                             Traceback (most recent call last)",
      "Cell \u001b[1;32mIn[39], line 1\u001b[0m\n\u001b[1;32m----> 1\u001b[0m \u001b[38;5;28;43mnext\u001b[39;49m\u001b[43m(\u001b[49m\u001b[43miterator\u001b[49m\u001b[43m)\u001b[49m\n",
      "\u001b[1;31mStopIteration\u001b[0m: "
     ]
    }
   ],
   "source": [
    "next(iterator)"
   ]
  },
  {
   "cell_type": "markdown",
   "metadata": {},
   "source": [
    "Generators in python\n"
   ]
  },
  {
   "cell_type": "code",
   "execution_count": null,
   "metadata": {},
   "outputs": [
    {
     "data": {
      "text/plain": [
       "3"
      ]
     },
     "execution_count": 5,
     "metadata": {},
     "output_type": "execute_result"
    }
   ],
   "source": [
    "def gen_rator():\n",
    "    yield 1\n",
    "    yield 2\n",
    "    yield 3\n",
    "gen = gen_rator()\n",
    "next(gen)    \n",
    "next(gen)\n",
    "next(gen)\n",
    "\n"
   ]
  },
  {
   "cell_type": "markdown",
   "metadata": {},
   "source": [
    "Function Copy\n"
   ]
  },
  {
   "cell_type": "markdown",
   "metadata": {},
   "source": [
    "function copy is a process in which we define a function and call it and we initialise the calling method in to another variable this is how a process been done"
   ]
  },
  {
   "cell_type": "code",
   "execution_count": null,
   "metadata": {},
   "outputs": [
    {
     "name": "stdout",
     "output_type": "stream",
     "text": [
      "fuck you \n",
      "fuck you \n"
     ]
    }
   ],
   "source": [
    "def wel_come():\n",
    "    print(\"fuck you \")\n",
    "well =wel_come\n",
    "well()\n",
    "wel_come()\n",
    "##This is how a function copy gets done "
   ]
  },
  {
   "cell_type": "markdown",
   "metadata": {},
   "source": [
    "Closure"
   ]
  },
  {
   "cell_type": "markdown",
   "metadata": {},
   "source": [
    "A function inside a function and the variale declared inside the first func can be used in nested function this property called the closure"
   ]
  },
  {
   "cell_type": "code",
   "execution_count": null,
   "metadata": {},
   "outputs": [
    {
     "name": "stdout",
     "output_type": "stream",
     "text": [
      "Welcome to home\n",
      "Hello tehre i'm abhishek\n",
      "Hello motherfucker\n"
     ]
    }
   ],
   "source": [
    "##example\n",
    "def fun_ction():\n",
    "    msg = \"Hello tehre i'm abhishek\"\n",
    "    def sub_func():\n",
    "        print(\"Welcome to home\")\n",
    "        print(msg)\n",
    "        print(\"Hello motherfucker\")\n",
    "    return sub_func()    \n",
    "fun_ction()"
   ]
  },
  {
   "cell_type": "code",
   "execution_count": null,
   "metadata": {},
   "outputs": [
    {
     "name": "stdout",
     "output_type": "stream",
     "text": [
      "Hey son how are you\n",
      "Helllo brother\n"
     ]
    }
   ],
   "source": [
    "##another example of passing the built in function as the parameter lets see what happen\n",
    "def abhi_shek(func):\n",
    "    func(\"Hey son how are you\")\n",
    "    def insi_func(func):\n",
    "        func(\"Helllo brother\")\n",
    "    return insi_func(print)\n",
    "abhi_shek(print)    "
   ]
  },
  {
   "cell_type": "code",
   "execution_count": null,
   "metadata": {},
   "outputs": [
    {
     "name": "stdout",
     "output_type": "stream",
     "text": [
      "Wrapper executed before say_hello\n",
      "Hello!\n",
      "Wrapper executed after say_hello\n"
     ]
    }
   ],
   "source": [
    "def decorator_function(original_function):\n",
    "    def wrapper_function():\n",
    "        print(\"Wrapper executed before\", original_function.__name__)\n",
    "        original_function()\n",
    "        print(\"Wrapper executed after\", original_function.__name__)\n",
    "    return wrapper_function\n",
    "\n",
    "@decorator_function\n",
    "def say_hello():\n",
    "    print(\"Hello!\")\n",
    "\n",
    "say_hello()"
   ]
  },
  {
   "cell_type": "markdown",
   "metadata": {},
   "source": [
    "##Decorator"
   ]
  },
  {
   "cell_type": "code",
   "execution_count": null,
   "metadata": {},
   "outputs": [
    {
     "name": "stdout",
     "output_type": "stream",
     "text": [
      "Hello mister\n",
      "Helo mf's\n",
      "hello motherfucker  hello_mc\n",
      "Helo mf's\n",
      "Hello cowboy hello_mc\n"
     ]
    }
   ],
   "source": [
    "def functio_n(func):\n",
    "    print(\"Hello mister\")\n",
    "    func()\n",
    "    def sec_func():\n",
    "        print(\"hello motherfucker \",func.__name__)\n",
    "        func()\n",
    "        print(\"Hello cowboy\",func.__name__)\n",
    "    return sec_func\n",
    "@functio_n\n",
    "def hello_mc():\n",
    "    print(\"Helo mf's\")\n",
    "hello_mc()            "
   ]
  },
  {
   "cell_type": "code",
   "execution_count": null,
   "metadata": {},
   "outputs": [
    {
     "name": "stdout",
     "output_type": "stream",
     "text": [
      "3\n",
      "2\n",
      "1\n",
      "0\n"
     ]
    },
    {
     "ename": "StopIteration",
     "evalue": "",
     "output_type": "error",
     "traceback": [
      "\u001b[1;31m---------------------------------------------------------------------------\u001b[0m",
      "\u001b[1;31mStopIteration\u001b[0m                             Traceback (most recent call last)",
      "Cell \u001b[1;32mIn[21], line 23\u001b[0m\n\u001b[0;32m     21\u001b[0m \u001b[38;5;28mprint\u001b[39m(\u001b[38;5;28mnext\u001b[39m(it))  \u001b[38;5;66;03m# 1\u001b[39;00m\n\u001b[0;32m     22\u001b[0m \u001b[38;5;28mprint\u001b[39m(\u001b[38;5;28mnext\u001b[39m(it))  \u001b[38;5;66;03m# 0\u001b[39;00m\n\u001b[1;32m---> 23\u001b[0m \u001b[38;5;28mprint\u001b[39m(\u001b[38;5;28;43mnext\u001b[39;49m\u001b[43m(\u001b[49m\u001b[43mit\u001b[49m\u001b[43m)\u001b[49m)  \u001b[38;5;66;03m# Raises StopIteration\u001b[39;00m\n",
      "Cell \u001b[1;32mIn[21], line 10\u001b[0m, in \u001b[0;36mCountdown.__next__\u001b[1;34m(self)\u001b[0m\n\u001b[0;32m      8\u001b[0m \u001b[38;5;28;01mdef\u001b[39;00m \u001b[38;5;21m__next__\u001b[39m(\u001b[38;5;28mself\u001b[39m):\n\u001b[0;32m      9\u001b[0m     \u001b[38;5;28;01mif\u001b[39;00m \u001b[38;5;28mself\u001b[39m\u001b[38;5;241m.\u001b[39mcurrent \u001b[38;5;241m<\u001b[39m \u001b[38;5;241m0\u001b[39m:\n\u001b[1;32m---> 10\u001b[0m         \u001b[38;5;28;01mraise\u001b[39;00m \u001b[38;5;167;01mStopIteration\u001b[39;00m\n\u001b[0;32m     11\u001b[0m     value \u001b[38;5;241m=\u001b[39m \u001b[38;5;28mself\u001b[39m\u001b[38;5;241m.\u001b[39mcurrent\n\u001b[0;32m     12\u001b[0m     \u001b[38;5;28mself\u001b[39m\u001b[38;5;241m.\u001b[39mcurrent \u001b[38;5;241m-\u001b[39m\u001b[38;5;241m=\u001b[39m \u001b[38;5;241m1\u001b[39m\n",
      "\u001b[1;31mStopIteration\u001b[0m: "
     ]
    }
   ],
   "source": [
    "class Countdown:\n",
    "    def __init__(self, start):\n",
    "        self.current = start\n",
    "\n",
    "    def __iter__(self):\n",
    "        return self  # this object is its own iterator\n",
    "\n",
    "    def __next__(self):\n",
    "        if self.current < 0:\n",
    "            raise StopIteration\n",
    "        value = self.current\n",
    "        self.current -= 1\n",
    "        return value\n",
    "\n",
    "# Using the iterator\n",
    "c = Countdown(3)\n",
    "it = iter(c)\n",
    "\n",
    "print(next(it))  # 3\n",
    "print(next(it))  # 2\n",
    "print(next(it))  # 1\n",
    "print(next(it))  # 0\n",
    "print(next(it))  # Raises StopIteration\n"
   ]
  },
  {
   "cell_type": "code",
   "execution_count": null,
   "metadata": {},
   "outputs": [
    {
     "name": "stdout",
     "output_type": "stream",
     "text": [
      "Requirement already satisfied: numpy in c:\\users\\abhishek\\appdata\\roaming\\python\\python312\\site-packages (2.2.1)\n",
      "Note: you may need to restart the kernel to use updated packages.\n"
     ]
    }
   ],
   "source": [
    "pip install numpy"
   ]
  },
  {
   "cell_type": "code",
   "execution_count": null,
   "metadata": {},
   "outputs": [
    {
     "name": "stdout",
     "output_type": "stream",
     "text": [
      "<class 'numpy.ndarray'>\n",
      "[1 2 3 4 5]\n",
      "(5,)\n"
     ]
    }
   ],
   "source": [
    "import numpy as np\n",
    "\n",
    "\n",
    "arr =np.array([1,2,3,4,5])\n",
    "print(type(arr))\n",
    "print(arr)\n",
    "print(arr.shape)"
   ]
  },
  {
   "cell_type": "code",
   "execution_count": null,
   "metadata": {},
   "outputs": [
    {
     "data": {
      "text/plain": [
       "array([[2, 4, 6, 8, 0]])"
      ]
     },
     "execution_count": 29,
     "metadata": {},
     "output_type": "execute_result"
    }
   ],
   "source": [
    "arr2 = np.array([2,4,6,8,0])\n",
    "arr2.reshape(1,5) ##1 row and 5 columns"
   ]
  },
  {
   "cell_type": "code",
   "execution_count": null,
   "metadata": {},
   "outputs": [
    {
     "name": "stdout",
     "output_type": "stream",
     "text": [
      "(2, 5)\n",
      "[[1 2 3 4 5]\n",
      " [4 5 6 7 8]]\n"
     ]
    }
   ],
   "source": [
    "arr2=np.array([[1,2,3,4,5],[4,5,6,7,8]])\n",
    "print(arr2.shape)\n",
    "print(arr2)"
   ]
  },
  {
   "cell_type": "code",
   "execution_count": null,
   "metadata": {},
   "outputs": [
    {
     "data": {
      "text/plain": [
       "array([[ 0,  3,  6,  9, 12, 15, 18]])"
      ]
     },
     "execution_count": 37,
     "metadata": {},
     "output_type": "execute_result"
    }
   ],
   "source": [
    "np.arange(0,20,3).reshape(1,7)"
   ]
  },
  {
   "cell_type": "code",
   "execution_count": null,
   "metadata": {},
   "outputs": [
    {
     "data": {
      "text/plain": [
       "array([[1., 1., 1., 1., 1.],\n",
       "       [1., 1., 1., 1., 1.],\n",
       "       [1., 1., 1., 1., 1.]])"
      ]
     },
     "execution_count": 39,
     "metadata": {},
     "output_type": "execute_result"
    }
   ],
   "source": [
    "np.ones((3,5))"
   ]
  },
  {
   "cell_type": "code",
   "execution_count": null,
   "metadata": {},
   "outputs": [
    {
     "data": {
      "text/plain": [
       "array([[1., 0., 0., 0., 0.],\n",
       "       [0., 1., 0., 0., 0.],\n",
       "       [0., 0., 1., 0., 0.],\n",
       "       [0., 0., 0., 1., 0.],\n",
       "       [0., 0., 0., 0., 1.]])"
      ]
     },
     "execution_count": 40,
     "metadata": {},
     "output_type": "execute_result"
    }
   ],
   "source": [
    "##idwntity matrix\n",
    "np.eye(5)"
   ]
  },
  {
   "cell_type": "code",
   "execution_count": null,
   "metadata": {},
   "outputs": [
    {
     "name": "stdout",
     "output_type": "stream",
     "text": [
      "Array are [[1 2 3]\n",
      " [4 5 6]]\n",
      "array shape (2, 3)\n",
      "array dimension 2\n",
      "Size (numbr of elemets ): 6\n",
      "Dataa type int64\n",
      "item size in bytes 8\n"
     ]
    }
   ],
   "source": [
    "arr =np.array([[1,2,3],[4,5,6]])\n",
    "\n",
    "print(\"Array are\",arr)\n",
    "print(\"array shape\",arr.shape)\n",
    "print(\"array dimension\",arr.ndim)\n",
    "print(\"Size (numbr of elemets ):\",arr.size)\n",
    "print(\"Dataa type\",arr.dtype)\n",
    "print(\"item size in bytes\",arr.itemsize)"
   ]
  },
  {
   "cell_type": "code",
   "execution_count": null,
   "metadata": {},
   "outputs": [
    {
     "name": "stdout",
     "output_type": "stream",
     "text": [
      "Addition: [11 22 33 44 55]\n",
      "Substraction [ -9 -18 -27 -36 -45]\n",
      "Multiplication [ 10  40  90 160 250]\n"
     ]
    }
   ],
   "source": [
    "##numpy vectorized operation\n",
    "arr1=np.array([1,2,3,4,5])\n",
    "arr2=np.array([10,20,30,40,50])\n",
    "\n",
    "##element wise addition\n",
    "print(\"Addition:\",arr1 + arr2)\n",
    "\n",
    "##element wise substraction\n",
    "print(\"Substraction\",arr1 - arr2)\n",
    "\n",
    "##element wise multiplication\n",
    "print(\"Multiplication\",arr1*arr2)"
   ]
  },
  {
   "cell_type": "code",
   "execution_count": null,
   "metadata": {},
   "outputs": [
    {
     "ename": "NameError",
     "evalue": "name 'np' is not defined",
     "output_type": "error",
     "traceback": [
      "\u001b[1;31m---------------------------------------------------------------------------\u001b[0m",
      "\u001b[1;31mNameError\u001b[0m                                 Traceback (most recent call last)",
      "Cell \u001b[1;32mIn[5], line 2\u001b[0m\n\u001b[0;32m      1\u001b[0m \u001b[38;5;66;03m##universal function\u001b[39;00m\n\u001b[1;32m----> 2\u001b[0m arr\u001b[38;5;241m=\u001b[39m\u001b[43mnp\u001b[49m\u001b[38;5;241m.\u001b[39marray([\u001b[38;5;241m2\u001b[39m,\u001b[38;5;241m3\u001b[39m,\u001b[38;5;241m4\u001b[39m,\u001b[38;5;241m5\u001b[39m,\u001b[38;5;241m6\u001b[39m])\n\u001b[0;32m      3\u001b[0m \u001b[38;5;28mprint\u001b[39m(np\u001b[38;5;241m.\u001b[39msqrt(arr))\n",
      "\u001b[1;31mNameError\u001b[0m: name 'np' is not defined"
     ]
    }
   ],
   "source": [
    "##universal function\n",
    "arr=np.array([2,3,4,5,6])\n",
    "print(np.sqrt(arr))"
   ]
  },
  {
   "cell_type": "code",
   "execution_count": null,
   "metadata": {},
   "outputs": [
    {
     "name": "stdout",
     "output_type": "stream",
     "text": [
      "[  7.3890561   20.08553692  54.59815003 148.4131591  403.42879349]\n",
      "[ 0.90929743  0.14112001 -0.7568025  -0.95892427 -0.2794155 ]\n",
      "[0.69314718 1.09861229 1.38629436 1.60943791 1.79175947]\n"
     ]
    }
   ],
   "source": [
    "##exponential\n",
    "print(np.exp(arr))\n",
    "\n",
    "##sine\n",
    "print(np.sin(arr))\n",
    "\n",
    "#3natural log\n",
    "print(np.log(arr))"
   ]
  },
  {
   "cell_type": "code",
   "execution_count": null,
   "metadata": {},
   "outputs": [
    {
     "name": "stdout",
     "output_type": "stream",
     "text": [
      "Requirement already satisfied: numpy in c:\\users\\abhishek\\appdata\\roaming\\python\\python312\\site-packages (2.2.1)\n",
      "2.2.1\n"
     ]
    }
   ],
   "source": [
    "!pip install numpy\n",
    "import numpy as np\n",
    "print(np.__version__)"
   ]
  },
  {
   "cell_type": "code",
   "execution_count": null,
   "metadata": {},
   "outputs": [],
   "source": [
    "arr=np.array([[1,2,3,4],[5,6,7,8],[0,2,4,5]])"
   ]
  },
  {
   "cell_type": "code",
   "execution_count": null,
   "metadata": {},
   "outputs": [
    {
     "name": "stdout",
     "output_type": "stream",
     "text": [
      "Requirement already satisfied: numpy in c:\\users\\abhishek\\appdata\\roaming\\python\\python312\\site-packages (2.2.1)\n"
     ]
    }
   ],
   "source": [
    "!pip install numpy"
   ]
  },
  {
   "cell_type": "code",
   "execution_count": null,
   "metadata": {},
   "outputs": [
    {
     "name": "stdout",
     "output_type": "stream",
     "text": [
      "2.2.1\n",
      "[[1 2 3 4]\n",
      " [5 6 7 8]\n",
      " [0 2 4 5]]\n"
     ]
    }
   ],
   "source": [
    "import numpy as np\n",
    "print(np.__version__)\n",
    "arr=np.array([[1,2,3,4],[5,6,7,8],[0,2,4,5]])\n",
    "print(arr)"
   ]
  },
  {
   "cell_type": "code",
   "execution_count": null,
   "metadata": {},
   "outputs": [
    {
     "name": "stdout",
     "output_type": "stream",
     "text": [
      "[0 2 4 5]\n"
     ]
    },
    {
     "data": {
      "text/plain": [
       "np.int64(7)"
      ]
     },
     "execution_count": 14,
     "metadata": {},
     "output_type": "execute_result"
    }
   ],
   "source": [
    "arr[0][3]\n",
    "print(arr[2])\n",
    "arr[1][2]"
   ]
  },
  {
   "cell_type": "code",
   "execution_count": null,
   "metadata": {},
   "outputs": [
    {
     "data": {
      "text/plain": [
       "array([[0, 2, 4, 5]])"
      ]
     },
     "execution_count": 16,
     "metadata": {},
     "output_type": "execute_result"
    }
   ],
   "source": [
    "arr[0:]\n",
    "arr[2:]"
   ]
  },
  {
   "cell_type": "code",
   "execution_count": null,
   "metadata": {},
   "outputs": [
    {
     "name": "stdout",
     "output_type": "stream",
     "text": [
      "[[3 4]\n",
      " [7 8]]\n"
     ]
    }
   ],
   "source": [
    "print(arr[0:2,2:4])"
   ]
  },
  {
   "cell_type": "code",
   "execution_count": null,
   "metadata": {},
   "outputs": [
    {
     "name": "stdout",
     "output_type": "stream",
     "text": [
      "[[ 1  2 50  4]\n",
      " [ 5  6  7  8]\n",
      " [ 0  2  4  5]]\n"
     ]
    }
   ],
   "source": [
    "arr[0,2]=50\n",
    "print(arr)"
   ]
  },
  {
   "cell_type": "code",
   "execution_count": null,
   "metadata": {},
   "outputs": [
    {
     "name": "stdout",
     "output_type": "stream",
     "text": [
      "5.5\n",
      "5.5\n",
      "2.8722813232690143\n",
      "variance: 8.25\n"
     ]
    }
   ],
   "source": [
    "import numpy as np\n",
    "data=np.array([1,2,3,4,5,6,7,8,9,10])\n",
    "#mean\n",
    "mean=np.mean(data)\n",
    "print(mean)\n",
    "\n",
    "#median\n",
    "median=np.median(data)\n",
    "print(median)\n",
    "\n",
    "#standard deviation\n",
    "std_dev=np.std(data)\n",
    "print(std_dev)\n",
    "\n",
    "#variance\n",
    "variance=np.var(data)\n",
    "print(\"variance:\",variance)"
   ]
  },
  {
   "cell_type": "code",
   "execution_count": null,
   "metadata": {},
   "outputs": [
    {
     "data": {
      "text/plain": [
       "array([ 6,  7,  8,  9, 10])"
      ]
     },
     "execution_count": 41,
     "metadata": {},
     "output_type": "execute_result"
    }
   ],
   "source": [
    "data =np.array([1,2,3,4,5,6,7,8,9,10])\n",
    "data[data>5]\n"
   ]
  },
  {
   "cell_type": "markdown",
   "metadata": {},
   "source": [
    "pandas"
   ]
  },
  {
   "cell_type": "code",
   "execution_count": null,
   "metadata": {},
   "outputs": [],
   "source": [
    "import pandas as pd"
   ]
  },
  {
   "cell_type": "code",
   "execution_count": null,
   "metadata": {},
   "outputs": [
    {
     "name": "stdout",
     "output_type": "stream",
     "text": [
      "Series : 0    1\n",
      "1    2\n",
      "2    3\n",
      "3    4\n",
      "4    5\n",
      "5    6\n",
      "6    7\n",
      "7    8\n",
      "8    9\n",
      "dtype: int64\n",
      "<class 'pandas.core.series.Series'>\n"
     ]
    }
   ],
   "source": [
    "data=[1,2,3,4,5,6,7,8,9]\n",
    "series=pd.Series(data)\n",
    "print(\"Series :\",series)\n",
    "print(type(series))"
   ]
  },
  {
   "cell_type": "code",
   "execution_count": null,
   "metadata": {},
   "outputs": [
    {
     "name": "stdout",
     "output_type": "stream",
     "text": [
      "a    1\n",
      "b    2\n",
      "c    3\n",
      "dtype: int64\n"
     ]
    }
   ],
   "source": [
    "##series from dictionary elements\n",
    "data = {'a':1,'b':2,'c':3}\n",
    "series_dict=pd.Series(data)\n",
    "print(series_dict)"
   ]
  },
  {
   "cell_type": "code",
   "execution_count": null,
   "metadata": {},
   "outputs": [
    {
     "name": "stdout",
     "output_type": "stream",
     "text": [
      "      Name  Age      City\n",
      "0    Alice   25  New York\n",
      "1      Bob   30    London\n",
      "2  Charlie   35     Paris\n"
     ]
    }
   ],
   "source": [
    "import pandas as pd\n",
    "\n",
    "# Creating a dictionary\n",
    "data = {\n",
    "    'Name': ['Alice', 'Bob', 'Charlie'],\n",
    "    'Age': [25, 30, 35],\n",
    "    'City': ['New York', 'London', 'Paris']\n",
    "}\n",
    "\n",
    "# Converting dictionary to DataFrame\n",
    "df = pd.DataFrame(data)\n",
    "\n",
    "# Displaying the DataFrame\n",
    "print(df)"
   ]
  },
  {
   "cell_type": "code",
   "execution_count": null,
   "metadata": {},
   "outputs": [
    {
     "name": "stdout",
     "output_type": "stream",
     "text": [
      "       Name  age     City\n",
      "0  Abhishek   20  Lucknow\n",
      "1  Abhishek   20  Lucknow\n",
      "2  Abhishek   20  Lucknow\n",
      "3  Abhishek   20  Lucknow\n",
      "<class 'pandas.core.frame.DataFrame'>\n"
     ]
    }
   ],
   "source": [
    "#create a dataframe from a list of dictionaries\n",
    "data=[\n",
    "    {'Name':\"Abhishek\",'age':20,\"City\":\"Lucknow\"}\n",
    "    ,\n",
    "    {'Name':\"Abhishek\",'age':20,\"City\":\"Lucknow\"},\n",
    "    {'Name':\"Abhishek\",'age':20,\"City\":\"Lucknow\"},\n",
    "    {'Name':\"Abhishek\",'age':20,\"City\":\"Lucknow\"}\n",
    "]\n",
    "\n",
    "df=pd.DataFrame(data)\n",
    "print(df)\n",
    "print(type(df))"
   ]
  },
  {
   "cell_type": "code",
   "execution_count": null,
   "metadata": {},
   "outputs": [],
   "source": [
    "pd.read_csv('filename.csv')\n",
    "pd.head(5) #it will find out the top five data of the file\n",
    "pd.tail(5)#it willl find outthe bottom five data list"
   ]
  },
  {
   "cell_type": "code",
   "execution_count": null,
   "metadata": {},
   "outputs": [
    {
     "data": {
      "text/html": [
       "<div>\n",
       "<style scoped>\n",
       "    .dataframe tbody tr th:only-of-type {\n",
       "        vertical-align: middle;\n",
       "    }\n",
       "\n",
       "    .dataframe tbody tr th {\n",
       "        vertical-align: top;\n",
       "    }\n",
       "\n",
       "    .dataframe thead th {\n",
       "        text-align: right;\n",
       "    }\n",
       "</style>\n",
       "<table border=\"1\" class=\"dataframe\">\n",
       "  <thead>\n",
       "    <tr style=\"text-align: right;\">\n",
       "      <th></th>\n",
       "      <th>Name</th>\n",
       "      <th>Age</th>\n",
       "      <th>City</th>\n",
       "    </tr>\n",
       "  </thead>\n",
       "  <tbody>\n",
       "    <tr>\n",
       "      <th>0</th>\n",
       "      <td>Alice</td>\n",
       "      <td>25</td>\n",
       "      <td>New York</td>\n",
       "    </tr>\n",
       "    <tr>\n",
       "      <th>1</th>\n",
       "      <td>Bob</td>\n",
       "      <td>30</td>\n",
       "      <td>London</td>\n",
       "    </tr>\n",
       "    <tr>\n",
       "      <th>2</th>\n",
       "      <td>Charlie</td>\n",
       "      <td>35</td>\n",
       "      <td>Paris</td>\n",
       "    </tr>\n",
       "  </tbody>\n",
       "</table>\n",
       "</div>"
      ],
      "text/plain": [
       "      Name  Age      City\n",
       "0    Alice   25  New York\n",
       "1      Bob   30    London\n",
       "2  Charlie   35     Paris"
      ]
     },
     "execution_count": 5,
     "metadata": {},
     "output_type": "execute_result"
    }
   ],
   "source": [
    "##accessing data from dataframe\n",
    "import pandas as pd\n",
    "data = {\n",
    "    'Name': ['Alice', 'Bob', 'Charlie'],\n",
    "    'Age': [25, 30, 35],\n",
    "    'City': ['New York', 'London', 'Paris']\n",
    "}\n",
    "df = pd.DataFrame(data)\n",
    "df\n"
   ]
  },
  {
   "cell_type": "code",
   "execution_count": null,
   "metadata": {},
   "outputs": [
    {
     "data": {
      "text/plain": [
       "pandas.core.series.Series"
      ]
     },
     "execution_count": 9,
     "metadata": {},
     "output_type": "execute_result"
    }
   ],
   "source": [
    "type(df['Name'])"
   ]
  },
  {
   "cell_type": "code",
   "execution_count": null,
   "metadata": {},
   "outputs": [
    {
     "data": {
      "text/plain": [
       "Name       Alice\n",
       "Age           25\n",
       "City    New York\n",
       "Name: 0, dtype: object"
      ]
     },
     "execution_count": 10,
     "metadata": {},
     "output_type": "execute_result"
    }
   ],
   "source": [
    "##used to print row index\n",
    "df.loc[0]"
   ]
  },
  {
   "cell_type": "code",
   "execution_count": null,
   "metadata": {},
   "outputs": [
    {
     "name": "stderr",
     "output_type": "stream",
     "text": [
      "C:\\Users\\Abhishek\\AppData\\Local\\Temp\\ipykernel_22676\\2215106252.py:2: FutureWarning: Series.__getitem__ treating keys as positions is deprecated. In a future version, integer keys will always be treated as labels (consistent with DataFrame behavior). To access a value by position, use `ser.iloc[pos]`\n",
      "  df.iloc[0][1]\n"
     ]
    },
    {
     "data": {
      "text/plain": [
       "np.int64(25)"
      ]
     },
     "execution_count": 13,
     "metadata": {},
     "output_type": "execute_result"
    }
   ],
   "source": [
    "##used to print column index\n",
    "df.iloc[0][1]"
   ]
  },
  {
   "cell_type": "code",
   "execution_count": null,
   "metadata": {},
   "outputs": [
    {
     "name": "stdout",
     "output_type": "stream",
     "text": [
      "      Name  Age      City\n",
      "0    Alice   25  New York\n",
      "1      Bob   30    London\n",
      "2  Charlie   35     Paris\n"
     ]
    },
    {
     "data": {
      "text/plain": [
       "np.int64(35)"
      ]
     },
     "execution_count": 16,
     "metadata": {},
     "output_type": "execute_result"
    }
   ],
   "source": [
    "##Accessing a specified element\n",
    "df['Name'] \n",
    "print(df)\n",
    "df.at[0,'Name']\n",
    "df.at[2,'Age']"
   ]
  },
  {
   "cell_type": "code",
   "execution_count": null,
   "metadata": {},
   "outputs": [
    {
     "data": {
      "text/plain": [
       "'Paris'"
      ]
     },
     "execution_count": 18,
     "metadata": {},
     "output_type": "execute_result"
    }
   ],
   "source": [
    "df.iat[0,0]\n",
    "df.iat[2,2]"
   ]
  },
  {
   "cell_type": "code",
   "execution_count": null,
   "metadata": {},
   "outputs": [
    {
     "data": {
      "text/html": [
       "<div>\n",
       "<style scoped>\n",
       "    .dataframe tbody tr th:only-of-type {\n",
       "        vertical-align: middle;\n",
       "    }\n",
       "\n",
       "    .dataframe tbody tr th {\n",
       "        vertical-align: top;\n",
       "    }\n",
       "\n",
       "    .dataframe thead th {\n",
       "        text-align: right;\n",
       "    }\n",
       "</style>\n",
       "<table border=\"1\" class=\"dataframe\">\n",
       "  <thead>\n",
       "    <tr style=\"text-align: right;\">\n",
       "      <th></th>\n",
       "      <th>Name</th>\n",
       "      <th>Age</th>\n",
       "      <th>City</th>\n",
       "      <th>Salary</th>\n",
       "    </tr>\n",
       "  </thead>\n",
       "  <tbody>\n",
       "    <tr>\n",
       "      <th>0</th>\n",
       "      <td>Alice</td>\n",
       "      <td>25</td>\n",
       "      <td>New York</td>\n",
       "      <td>1000</td>\n",
       "    </tr>\n",
       "    <tr>\n",
       "      <th>1</th>\n",
       "      <td>Bob</td>\n",
       "      <td>30</td>\n",
       "      <td>London</td>\n",
       "      <td>50000</td>\n",
       "    </tr>\n",
       "    <tr>\n",
       "      <th>2</th>\n",
       "      <td>Charlie</td>\n",
       "      <td>35</td>\n",
       "      <td>Paris</td>\n",
       "      <td>56000</td>\n",
       "    </tr>\n",
       "  </tbody>\n",
       "</table>\n",
       "</div>"
      ],
      "text/plain": [
       "      Name  Age      City  Salary\n",
       "0    Alice   25  New York    1000\n",
       "1      Bob   30    London   50000\n",
       "2  Charlie   35     Paris   56000"
      ]
     },
     "execution_count": 20,
     "metadata": {},
     "output_type": "execute_result"
    }
   ],
   "source": [
    "##adding more column\n",
    "df['Salary']=[1000,50000,56000]\n",
    "df"
   ]
  },
  {
   "cell_type": "code",
   "execution_count": null,
   "metadata": {},
   "outputs": [
    {
     "data": {
      "text/html": [
       "<div>\n",
       "<style scoped>\n",
       "    .dataframe tbody tr th:only-of-type {\n",
       "        vertical-align: middle;\n",
       "    }\n",
       "\n",
       "    .dataframe tbody tr th {\n",
       "        vertical-align: top;\n",
       "    }\n",
       "\n",
       "    .dataframe thead th {\n",
       "        text-align: right;\n",
       "    }\n",
       "</style>\n",
       "<table border=\"1\" class=\"dataframe\">\n",
       "  <thead>\n",
       "    <tr style=\"text-align: right;\">\n",
       "      <th></th>\n",
       "      <th>Name</th>\n",
       "      <th>Age</th>\n",
       "      <th>City</th>\n",
       "    </tr>\n",
       "  </thead>\n",
       "  <tbody>\n",
       "    <tr>\n",
       "      <th>0</th>\n",
       "      <td>Alice</td>\n",
       "      <td>25</td>\n",
       "      <td>New York</td>\n",
       "    </tr>\n",
       "    <tr>\n",
       "      <th>1</th>\n",
       "      <td>Bob</td>\n",
       "      <td>30</td>\n",
       "      <td>London</td>\n",
       "    </tr>\n",
       "    <tr>\n",
       "      <th>2</th>\n",
       "      <td>Charlie</td>\n",
       "      <td>35</td>\n",
       "      <td>Paris</td>\n",
       "    </tr>\n",
       "  </tbody>\n",
       "</table>\n",
       "</div>"
      ],
      "text/plain": [
       "      Name  Age      City\n",
       "0    Alice   25  New York\n",
       "1      Bob   30    London\n",
       "2  Charlie   35     Paris"
      ]
     },
     "execution_count": 22,
     "metadata": {},
     "output_type": "execute_result"
    }
   ],
   "source": [
    "##deleting any particular columns from data\n",
    "df.drop('Salary',axis=1)\n",
    "##but it will not delete it permanently"
   ]
  },
  {
   "cell_type": "code",
   "execution_count": null,
   "metadata": {},
   "outputs": [],
   "source": [
    "df\n",
    "df.drop('Salary', axis=1, inplace=True, errors='ignore')"
   ]
  },
  {
   "cell_type": "code",
   "execution_count": null,
   "metadata": {},
   "outputs": [
    {
     "data": {
      "text/html": [
       "<div>\n",
       "<style scoped>\n",
       "    .dataframe tbody tr th:only-of-type {\n",
       "        vertical-align: middle;\n",
       "    }\n",
       "\n",
       "    .dataframe tbody tr th {\n",
       "        vertical-align: top;\n",
       "    }\n",
       "\n",
       "    .dataframe thead th {\n",
       "        text-align: right;\n",
       "    }\n",
       "</style>\n",
       "<table border=\"1\" class=\"dataframe\">\n",
       "  <thead>\n",
       "    <tr style=\"text-align: right;\">\n",
       "      <th></th>\n",
       "      <th>Name</th>\n",
       "      <th>Age</th>\n",
       "      <th>City</th>\n",
       "    </tr>\n",
       "  </thead>\n",
       "  <tbody>\n",
       "    <tr>\n",
       "      <th>0</th>\n",
       "      <td>Alice</td>\n",
       "      <td>25</td>\n",
       "      <td>New York</td>\n",
       "    </tr>\n",
       "    <tr>\n",
       "      <th>1</th>\n",
       "      <td>Bob</td>\n",
       "      <td>30</td>\n",
       "      <td>London</td>\n",
       "    </tr>\n",
       "    <tr>\n",
       "      <th>2</th>\n",
       "      <td>Charlie</td>\n",
       "      <td>35</td>\n",
       "      <td>Paris</td>\n",
       "    </tr>\n",
       "  </tbody>\n",
       "</table>\n",
       "</div>"
      ],
      "text/plain": [
       "      Name  Age      City\n",
       "0    Alice   25  New York\n",
       "1      Bob   30    London\n",
       "2  Charlie   35     Paris"
      ]
     },
     "execution_count": 37,
     "metadata": {},
     "output_type": "execute_result"
    }
   ],
   "source": [
    "df"
   ]
  },
  {
   "cell_type": "code",
   "execution_count": null,
   "metadata": {},
   "outputs": [
    {
     "name": "stdout",
     "output_type": "stream",
     "text": [
      "<class 'pandas.core.frame.DataFrame'>\n",
      "RangeIndex: 3 entries, 0 to 2\n",
      "Data columns (total 3 columns):\n",
      " #   Column  Non-Null Count  Dtype \n",
      "---  ------  --------------  ----- \n",
      " 0   Name    3 non-null      object\n",
      " 1   Age     3 non-null      int64 \n",
      " 2   City    3 non-null      object\n",
      "dtypes: int64(1), object(2)\n",
      "memory usage: 204.0+ bytes\n",
      "None\n",
      "Before:\n",
      " 0    31\n",
      "1    36\n",
      "2    41\n",
      "Name: Age, dtype: int64\n",
      "After:\n",
      " 0    32\n",
      "1    37\n",
      "2    42\n",
      "Name: Age, dtype: int64\n"
     ]
    }
   ],
   "source": [
    "##increamenting age to column \n",
    "\n",
    "print(df.info())\n",
    "print(\"Before:\\n\", df['Age'])\n",
    "df['Age'] = df['Age'] + 1\n",
    "print(\"After:\\n\", df['Age'])"
   ]
  },
  {
   "cell_type": "code",
   "execution_count": null,
   "metadata": {},
   "outputs": [
    {
     "data": {
      "text/html": [
       "<div>\n",
       "<style scoped>\n",
       "    .dataframe tbody tr th:only-of-type {\n",
       "        vertical-align: middle;\n",
       "    }\n",
       "\n",
       "    .dataframe tbody tr th {\n",
       "        vertical-align: top;\n",
       "    }\n",
       "\n",
       "    .dataframe thead th {\n",
       "        text-align: right;\n",
       "    }\n",
       "</style>\n",
       "<table border=\"1\" class=\"dataframe\">\n",
       "  <thead>\n",
       "    <tr style=\"text-align: right;\">\n",
       "      <th></th>\n",
       "      <th>Name</th>\n",
       "      <th>Age</th>\n",
       "      <th>City</th>\n",
       "    </tr>\n",
       "  </thead>\n",
       "  <tbody>\n",
       "    <tr>\n",
       "      <th>0</th>\n",
       "      <td>Alice</td>\n",
       "      <td>32</td>\n",
       "      <td>New York</td>\n",
       "    </tr>\n",
       "    <tr>\n",
       "      <th>2</th>\n",
       "      <td>Charlie</td>\n",
       "      <td>42</td>\n",
       "      <td>Paris</td>\n",
       "    </tr>\n",
       "  </tbody>\n",
       "</table>\n",
       "</div>"
      ],
      "text/plain": [
       "      Name  Age      City\n",
       "0    Alice   32  New York\n",
       "2  Charlie   42     Paris"
      ]
     },
     "execution_count": 47,
     "metadata": {},
     "output_type": "execute_result"
    }
   ],
   "source": [
    "df.drop(1,inplace=True,errors='ignore')\n",
    "df"
   ]
  },
  {
   "cell_type": "code",
   "execution_count": null,
   "metadata": {},
   "outputs": [
    {
     "data": {
      "text/html": [
       "<div>\n",
       "<style scoped>\n",
       "    .dataframe tbody tr th:only-of-type {\n",
       "        vertical-align: middle;\n",
       "    }\n",
       "\n",
       "    .dataframe tbody tr th {\n",
       "        vertical-align: top;\n",
       "    }\n",
       "\n",
       "    .dataframe thead th {\n",
       "        text-align: right;\n",
       "    }\n",
       "</style>\n",
       "<table border=\"1\" class=\"dataframe\">\n",
       "  <thead>\n",
       "    <tr style=\"text-align: right;\">\n",
       "      <th></th>\n",
       "      <th>Name</th>\n",
       "      <th>Age</th>\n",
       "      <th>City</th>\n",
       "    </tr>\n",
       "  </thead>\n",
       "  <tbody>\n",
       "    <tr>\n",
       "      <th>0</th>\n",
       "      <td>Alice</td>\n",
       "      <td>32</td>\n",
       "      <td>New York</td>\n",
       "    </tr>\n",
       "    <tr>\n",
       "      <th>2</th>\n",
       "      <td>Charlie</td>\n",
       "      <td>42</td>\n",
       "      <td>Paris</td>\n",
       "    </tr>\n",
       "  </tbody>\n",
       "</table>\n",
       "</div>"
      ],
      "text/plain": [
       "      Name  Age      City\n",
       "0    Alice   32  New York\n",
       "2  Charlie   42     Paris"
      ]
     },
     "execution_count": 48,
     "metadata": {},
     "output_type": "execute_result"
    }
   ],
   "source": [
    "df"
   ]
  },
  {
   "cell_type": "markdown",
   "metadata": {},
   "source": [
    "Data manipulation and Analysis with numpy and pandas "
   ]
  },
  {
   "cell_type": "markdown",
   "metadata": {},
   "source": [
    "Data manipulation and analysis are key taks in any data scinece or data analysis project .Pandas provides a wide range of functions for data manipulation and analysis , making it easier to clean , transform and extract isights from data "
   ]
  },
  {
   "cell_type": "code",
   "execution_count": 1,
   "metadata": {},
   "outputs": [],
   "source": [
    "import pandas as pd "
   ]
  },
  {
   "cell_type": "code",
   "execution_count": null,
   "metadata": {},
   "outputs": [],
   "source": [
    "df = pd.read_csv('data.csv') ## used to read data from csv file"
   ]
  },
  {
   "cell_type": "code",
   "execution_count": null,
   "metadata": {},
   "outputs": [],
   "source": [
    "##handling missing values \n",
    "df.isnull() ##it returns a boolean value True if any value is null or false if any value is no false\n"
   ]
  },
  {
   "cell_type": "code",
   "execution_count": null,
   "metadata": {},
   "outputs": [],
   "source": [
    "##we can count even the num of value which are null by using sum method\n",
    "df.isnull().sum()"
   ]
  },
  {
   "cell_type": "code",
   "execution_count": null,
   "metadata": {},
   "outputs": [],
   "source": [
    "## we can fill the missing values by {0} using fillna method\n",
    "df_filled=df.fillna(0)"
   ]
  },
  {
   "cell_type": "code",
   "execution_count": null,
   "metadata": {},
   "outputs": [],
   "source": [
    "##filling missing values with the mean of that particular column \n",
    "df['Sales_fillNA']=df['Sales'].fillna(df['Sales'].mean())"
   ]
  },
  {
   "cell_type": "code",
   "execution_count": null,
   "metadata": {},
   "outputs": [],
   "source": [
    "#reanming any particular column\n",
    "df.rename(columns={'Date':'Sales_Dat'})\n",
    "df.head()"
   ]
  },
  {
   "cell_type": "code",
   "execution_count": null,
   "metadata": {},
   "outputs": [],
   "source": [
    "##changing data type\n",
    "#converting into float value\n",
    "df['Value_new']=df['Value'].astype(float)"
   ]
  },
  {
   "cell_type": "code",
   "execution_count": null,
   "metadata": {},
   "outputs": [],
   "source": [
    "# applying a particular method to one of the value of column and change its value\n",
    "df['New value']=df['Value'].apply(lambda x:x*2) \n",
    "# it will add a new column of New value having 2x value"
   ]
  },
  {
   "cell_type": "code",
   "execution_count": null,
   "metadata": {},
   "outputs": [
    {
     "name": "stdout",
     "output_type": "stream",
     "text": [
      "Category\n",
      "A    30.0\n",
      "B    30.0\n",
      "C    60.0\n",
      "Name: Values, dtype: float64\n",
      "Category\n",
      "A    90\n",
      "B    60\n",
      "C    60\n",
      "Name: Values, dtype: int64\n"
     ]
    }
   ],
   "source": [
    "##Data Aggregating and Grouping\n",
    "#In pandas, data aggregation and grouping are techniques\n",
    "#  used to summarize and \n",
    "# analyze data efficiently. These operations help in \n",
    "# breaking down large datasets into meaningful segments, \n",
    "# making it easier to extract insights.\n",
    "\n",
    "# there are similar example of it \n",
    "import pandas as pd\n",
    "\n",
    "# Creating a sample DataFrame\n",
    "data = {'Category': ['A', 'B', 'A', 'B', 'A', 'C'],\n",
    "        'Values': [10, 20, 30, 40, 50, 60]}\n",
    "\n",
    "df = pd.DataFrame(data)\n",
    "\n",
    "# Grouping by 'Category' and calculating sum\n",
    "grouped = df.groupby('Category')['Values'].sum()\n",
    "mean_val=df.groupby('Category')['Values'].mean()\n",
    "print(mean_val)\n",
    "print(grouped)\n"
   ]
  },
  {
   "cell_type": "markdown",
   "metadata": {},
   "source": [
    "Aggregation in Pandas (agg())\n",
    "Aggregation functions allow you to apply multiple operations on grouped data. You can use .agg() to perform multiple functions like mean, sum, count, etc., in a single step.\n"
   ]
  },
  {
   "cell_type": "code",
   "execution_count": 4,
   "metadata": {},
   "outputs": [
    {
     "name": "stdout",
     "output_type": "stream",
     "text": [
      "          sum  mean  count\n",
      "Category                  \n",
      "A          90  30.0      3\n",
      "B          60  30.0      2\n",
      "C          60  60.0      1\n"
     ]
    }
   ],
   "source": [
    "grouped_agg = df.groupby('Category')['Values'].agg(['sum', 'mean', 'count'])\n",
    "\n",
    "print(grouped_agg)"
   ]
  },
  {
   "cell_type": "code",
   "execution_count": null,
   "metadata": {},
   "outputs": [],
   "source": []
  },
  {
   "cell_type": "code",
   "execution_count": null,
   "metadata": {},
   "outputs": [],
   "source": []
  }
 ],
 "metadata": {
  "kernelspec": {
   "display_name": "Python 3",
   "language": "python",
   "name": "python3"
  },
  "language_info": {
   "codemirror_mode": {
    "name": "ipython",
    "version": 3
   },
   "file_extension": ".py",
   "mimetype": "text/x-python",
   "name": "python",
   "nbconvert_exporter": "python",
   "pygments_lexer": "ipython3",
   "version": "3.12.0"
  }
 },
 "nbformat": 4,
 "nbformat_minor": 2
}
