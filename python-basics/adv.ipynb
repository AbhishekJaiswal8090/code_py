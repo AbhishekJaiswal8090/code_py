{
 "cells": [
  {
   "cell_type": "code",
   "execution_count": 3,
   "id": "fc0dad9a",
   "metadata": {},
   "outputs": [
    {
     "name": "stdout",
     "output_type": "stream",
     "text": [
      "Collecting pysqlite3\n",
      "  Downloading pysqlite3-0.5.4.tar.gz (40 kB)\n",
      "  Preparing metadata (setup.py): started\n",
      "  Preparing metadata (setup.py): finished with status 'done'\n",
      "Building wheels for collected packages: pysqlite3\n",
      "  Building wheel for pysqlite3 (setup.py): started\n",
      "  Building wheel for pysqlite3 (setup.py): finished with status 'error'\n",
      "  Running setup.py clean for pysqlite3\n",
      "Failed to build pysqlite3\n"
     ]
    },
    {
     "name": "stderr",
     "output_type": "stream",
     "text": [
      "  error: subprocess-exited-with-error\n",
      "  \n",
      "  × python setup.py bdist_wheel did not run successfully.\n",
      "  │ exit code: 1\n",
      "  ╰─> [10 lines of output]\n",
      "      running bdist_wheel\n",
      "      running build\n",
      "      running build_py\n",
      "      creating build\\lib.win-amd64-cpython-312\\pysqlite3\n",
      "      copying pysqlite3\\dbapi2.py -> build\\lib.win-amd64-cpython-312\\pysqlite3\n",
      "      copying pysqlite3\\__init__.py -> build\\lib.win-amd64-cpython-312\\pysqlite3\n",
      "      running build_ext\n",
      "      Builds a C extension linking against libsqlite3 library\n",
      "      building 'pysqlite3._sqlite3' extension\n",
      "      error: Microsoft Visual C++ 14.0 or greater is required. Get it with \"Microsoft C++ Build Tools\": https://visualstudio.microsoft.com/visual-cpp-build-tools/\n",
      "      [end of output]\n",
      "  \n",
      "  note: This error originates from a subprocess, and is likely not a problem with pip.\n",
      "  ERROR: Failed building wheel for pysqlite3\n",
      "ERROR: Failed to build installable wheels for some pyproject.toml based projects (pysqlite3)\n"
     ]
    }
   ],
   "source": [
    "!pip install pysqlite3"
   ]
  },
  {
   "cell_type": "code",
   "execution_count": null,
   "id": "a63a985d",
   "metadata": {},
   "outputs": [],
   "source": [
    "import sqlite3\n",
    "##creating an sqllite connection"
   ]
  },
  {
   "cell_type": "code",
   "execution_count": 6,
   "id": "f101f692",
   "metadata": {},
   "outputs": [
    {
     "data": {
      "text/plain": [
       "<sqlite3.Connection at 0x2808f6048b0>"
      ]
     },
     "execution_count": 6,
     "metadata": {},
     "output_type": "execute_result"
    }
   ],
   "source": [
    "connection = sqlite3.connect('example.db')\n",
    "connection"
   ]
  },
  {
   "cell_type": "code",
   "execution_count": 7,
   "id": "daec5740",
   "metadata": {},
   "outputs": [],
   "source": [
    "#we need to create a cursor\n",
    "cursor=connection.cursor()"
   ]
  },
  {
   "cell_type": "code",
   "execution_count": 8,
   "id": "137f6f13",
   "metadata": {},
   "outputs": [],
   "source": [
    "##create a table\n",
    "cursor.execute('''\n",
    "Create Table If Not Exists Employees(\n",
    "               id Integer Primary Key,\n",
    "               name Text Not Null,\n",
    "               age Integer,\n",
    "               department text\n",
    "               )\n",
    "            ''')\n",
    "#commit the chaanges\n",
    "connection.commit()"
   ]
  },
  {
   "cell_type": "code",
   "execution_count": 9,
   "id": "ad9a8cad",
   "metadata": {},
   "outputs": [
    {
     "data": {
      "text/plain": [
       "<sqlite3.Cursor at 0x2808f9528c0>"
      ]
     },
     "execution_count": 9,
     "metadata": {},
     "output_type": "execute_result"
    }
   ],
   "source": [
    "cursor.execute('''\n",
    "Select * From employees''')"
   ]
  },
  {
   "cell_type": "code",
   "execution_count": 11,
   "id": "4de251ef",
   "metadata": {},
   "outputs": [],
   "source": [
    "#Insert data in sqlite table\n",
    "cursor.execute('''\n",
    "Insert Into employees (name , age , department)\n",
    "VALUES ('Abhi' ,20 ,'Engineering')\n",
    "                ''')\n",
    "\n",
    "cursor.execute('''\n",
    "Insert Into employees (name , age , department)\n",
    "VALUES ('Akash' ,10 ,'Inetrior Designer')\n",
    "                ''')\n",
    "\n",
    "cursor.execute('''\n",
    "Insert Into employees (name , age , department)\n",
    "VALUES ('Aman' ,11 ,'Pharma')\n",
    "                ''')\n",
    "\n",
    "##commit the changes\n",
    "\n",
    "connection.commit()\n",
    "\n"
   ]
  },
  {
   "cell_type": "code",
   "execution_count": 13,
   "id": "f18d3568",
   "metadata": {},
   "outputs": [
    {
     "name": "stdout",
     "output_type": "stream",
     "text": [
      "(1, 'Abhi', 20, 'Engineering')\n",
      "(2, 'Abhi', 20, 'Engineering')\n",
      "(3, 'Akash', 10, 'Inetrior Designer')\n",
      "(4, 'Aman', 11, 'Pharma')\n"
     ]
    }
   ],
   "source": [
    "##querying the data from table itself\n",
    "cursor.execute('Select * from employees')\n",
    "rows = cursor.fetchall()\n",
    "\n",
    "#print the queried data\n",
    "for row in rows:\n",
    "    print(row)\n"
   ]
  },
  {
   "cell_type": "code",
   "execution_count": 18,
   "id": "5046b76a",
   "metadata": {},
   "outputs": [],
   "source": [
    "##updating data from the table\n",
    "cursor.execute(\n",
    "    '''\n",
    "UPDATE employees\n",
    "Set age =34\n",
    "where name = \"Abhi\"\n",
    "'''\n",
    ")\n",
    "connection.commit()\n"
   ]
  },
  {
   "cell_type": "code",
   "execution_count": 19,
   "id": "e4e0b98a",
   "metadata": {},
   "outputs": [
    {
     "name": "stdout",
     "output_type": "stream",
     "text": [
      "(1, 'Abhi', 34, 'Engineering')\n",
      "(2, 'Abhi', 34, 'Engineering')\n",
      "(3, 'Akash', 10, 'Inetrior Designer')\n",
      "(4, 'Aman', 11, 'Pharma')\n"
     ]
    }
   ],
   "source": [
    "cursor.execute('Select * from employees')\n",
    "rows = cursor.fetchall()\n",
    "\n",
    "#print the queried data\n",
    "for row in rows:\n",
    "    print(row)"
   ]
  },
  {
   "cell_type": "code",
   "execution_count": 21,
   "id": "ad9c1a61",
   "metadata": {},
   "outputs": [],
   "source": [
    "##deleting data from table\n",
    "cursor.execute('''\n",
    "Delete from employees\n",
    "               where name=\"Abhi\"''')\n",
    "\n",
    "connection.commit()"
   ]
  },
  {
   "cell_type": "code",
   "execution_count": 22,
   "id": "1401d163",
   "metadata": {},
   "outputs": [
    {
     "name": "stdout",
     "output_type": "stream",
     "text": [
      "(3, 'Akash', 10, 'Inetrior Designer')\n",
      "(4, 'Aman', 11, 'Pharma')\n"
     ]
    }
   ],
   "source": [
    "cursor.execute('Select * from employees')\n",
    "rows = cursor.fetchall()\n",
    "\n",
    "for row in rows :\n",
    "    print(row)"
   ]
  },
  {
   "cell_type": "code",
   "execution_count": 24,
   "id": "0d81b350",
   "metadata": {},
   "outputs": [],
   "source": [
    "cursor.execute(\n",
    "    '''\n",
    "    Insert into employees ('name','age','department')\n",
    "     VALUES (\"Abhi\",'19','Comp.Science')\n",
    "    '''\n",
    ")\n",
    "\n",
    "connection.commit()"
   ]
  },
  {
   "cell_type": "code",
   "execution_count": 26,
   "id": "b6837201",
   "metadata": {},
   "outputs": [
    {
     "name": "stdout",
     "output_type": "stream",
     "text": [
      "(3, 'Akash', 10, 'Inetrior Designer')\n",
      "(4, 'Aman', 11, 'Pharma')\n",
      "(5, 'Abhi', 19, 'Comp.Science')\n"
     ]
    }
   ],
   "source": [
    "cursor =cursor.execute('Select * from employees')\n",
    "rows = cursor.fetchall()\n",
    "\n",
    "for row in rows:\n",
    "    print(row)"
   ]
  },
  {
   "cell_type": "code",
   "execution_count": 29,
   "id": "58068cd5",
   "metadata": {},
   "outputs": [],
   "source": [
    "##working with sales data\n",
    "connection=sqlite3.connect('Sales')\n",
    "cursor=connection.cursor()\n",
    "\n",
    "#create a table for sales data\n",
    "cursor.execute('''\n",
    "  CREATE TABLE IF NOT EXISTS sales (\n",
    "               id Integer Primary KEY,\n",
    "               date TEXT NOT NULL,\n",
    "                product TEXT NOT NULL,\n",
    "               sales Inetger,\n",
    "               region TEXT)\n",
    "        ''')\n",
    "#INSERING DATA INTO THE TABLE\n",
    "sales_data = [\n",
    "    ( '2025-05-22', 'Laptop', 1500, 'North America'),\n",
    "    ( '2025-05-21', 'Smartphone', 1200, 'Europe'),\n",
    "    ( '2025-05-20', 'Tablet', 800, 'Asia'),\n",
    "    ( '2025-05-19', 'Smartwatch', 500, 'South America')\n",
    "]\n",
    "\n",
    "cursor.executemany('''\n",
    "Insert into Sales (date , Product ,sales,region)\n",
    "                   VALUES(?,?,?,?)\n",
    "                   ''',sales_data)\n",
    "\n",
    "connection.commit()\n"
   ]
  },
  {
   "cell_type": "code",
   "execution_count": 30,
   "id": "33091fd7",
   "metadata": {},
   "outputs": [
    {
     "name": "stdout",
     "output_type": "stream",
     "text": [
      "(1, '2025-05-22', 'Laptop', 1500, 'North America')\n",
      "(2, '2025-05-21', 'Smartphone', 1200, 'Europe')\n",
      "(3, '2025-05-20', 'Tablet', 800, 'Asia')\n",
      "(4, '2025-05-19', 'Smartwatch', 500, 'South America')\n"
     ]
    }
   ],
   "source": [
    "cursor =connection.cursor()\n",
    "rows=cursor.execute('Select * from Sales')\n",
    "\n",
    "for row in rows :\n",
    "    print(row)"
   ]
  },
  {
   "cell_type": "code",
   "execution_count": null,
   "id": "0473a1b0",
   "metadata": {},
   "outputs": [],
   "source": []
  }
 ],
 "metadata": {
  "kernelspec": {
   "display_name": "Python 3",
   "language": "python",
   "name": "python3"
  },
  "language_info": {
   "codemirror_mode": {
    "name": "ipython",
    "version": 3
   },
   "file_extension": ".py",
   "mimetype": "text/x-python",
   "name": "python",
   "nbconvert_exporter": "python",
   "pygments_lexer": "ipython3",
   "version": "3.12.0"
  }
 },
 "nbformat": 4,
 "nbformat_minor": 5
}
