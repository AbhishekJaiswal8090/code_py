{
 "cells": [
  {
   "cell_type": "markdown",
   "id": "e2dc28a5",
   "metadata": {},
   "source": [
    "Logging with multiple loggers"
   ]
  },
  {
   "cell_type": "markdown",
   "id": "28f93ce0",
   "metadata": {},
   "source": [
    "you can create multiple loggers for different parts of your application"
   ]
  },
  {
   "cell_type": "code",
   "execution_count": 4,
   "id": "44021e40",
   "metadata": {},
   "outputs": [],
   "source": [
    "import logging\n",
    "#create a logger for module\n",
    "logger1 =logging.getLogger('module1')\n",
    "logger1.setLevel(logging.DEBUG)\n",
    "\n",
    "#creating a logger for module 2\n",
    "logger2 = logging.getLogger('module2')\n",
    "logger2.setLevel(logging.WARNING)\n",
    "\n",
    "logging.basicConfig(\n",
    "     level=logging.DEBUG,            # Log everything from DEBUG and above\n",
    "    format='%(asctime)s - %(levelname)s - %(message)s',\n",
    "    datefmt='%Y-%m-%d %H:%M:%S'\n",
    ")"
   ]
  },
  {
   "cell_type": "code",
   "execution_count": 5,
   "id": "87ee8052",
   "metadata": {},
   "outputs": [
    {
     "name": "stderr",
     "output_type": "stream",
     "text": [
      "2025-05-24 10:22:08 - DEBUG - This is debug msg\n",
      "2025-05-24 10:22:08 - WARNING - This is a warning message\n"
     ]
    }
   ],
   "source": [
    "#log message for diff loggers\n",
    "logger1.debug(\"This is debug msg\")\n",
    "logger2.warning(\"This is a warning message\")\n"
   ]
  },
  {
   "cell_type": "code",
   "execution_count": null,
   "id": "2b429bb0",
   "metadata": {},
   "outputs": [],
   "source": []
  },
  {
   "cell_type": "code",
   "execution_count": null,
   "id": "c8453097",
   "metadata": {},
   "outputs": [],
   "source": []
  },
  {
   "cell_type": "code",
   "execution_count": null,
   "id": "baf356ce",
   "metadata": {},
   "outputs": [],
   "source": []
  },
  {
   "cell_type": "code",
   "execution_count": null,
   "id": "acc54920",
   "metadata": {},
   "outputs": [],
   "source": []
  },
  {
   "cell_type": "code",
   "execution_count": null,
   "id": "c1921bea",
   "metadata": {},
   "outputs": [],
   "source": []
  },
  {
   "cell_type": "code",
   "execution_count": null,
   "id": "adfad0b3",
   "metadata": {},
   "outputs": [],
   "source": []
  },
  {
   "cell_type": "code",
   "execution_count": null,
   "id": "6689e4b8",
   "metadata": {},
   "outputs": [],
   "source": []
  }
 ],
 "metadata": {
  "kernelspec": {
   "display_name": "Python 3",
   "language": "python",
   "name": "python3"
  },
  "language_info": {
   "codemirror_mode": {
    "name": "ipython",
    "version": 3
   },
   "file_extension": ".py",
   "mimetype": "text/x-python",
   "name": "python",
   "nbconvert_exporter": "python",
   "pygments_lexer": "ipython3",
   "version": "3.12.0"
  }
 },
 "nbformat": 4,
 "nbformat_minor": 5
}
