{
 "cells": [
  {
   "cell_type": "markdown",
   "id": "751ee023",
   "metadata": {},
   "source": [
    "Logging"
   ]
  },
  {
   "cell_type": "markdown",
   "id": "a135ab8c",
   "metadata": {},
   "source": [
    "logging is a cruciaal aspect of any app , providing a way to track events , errors , amd operational info . Python built in logging modules offers a flexible framework for emitting log messages from python programs"
   ]
  },
  {
   "cell_type": "code",
   "execution_count": 7,
   "id": "2e77c281",
   "metadata": {},
   "outputs": [
    {
     "name": "stderr",
     "output_type": "stream",
     "text": [
      "DEBUG:root:This is a debug msg\n",
      "INFO:root:This is an info ms\n",
      "WARNING:root:This is a warning msg\n",
      "ERROR:root:This is an error mdg\n",
      "CRITICAL:root:This is an critical msg\n"
     ]
    }
   ],
   "source": [
    "import logging\n",
    "\n",
    "#configure the basic logging setup\n",
    "logging.basicConfig(level=logging.DEBUG)\n",
    "\n",
    "#LOGIN MSG\n",
    "logging.debug(\"This is a debug msg\")\n",
    "logging.info(\"This is an info ms\")\n",
    "logging.warning(\"This is a warning msg\")\n",
    "logging.error(\"This is an error mdg\")\n",
    "logging.critical(\"This is an critical msg\")"
   ]
  },
  {
   "cell_type": "code",
   "execution_count": 1,
   "id": "cd2044b4",
   "metadata": {},
   "outputs": [],
   "source": [
    "import logging\n",
    "\n",
    "# Set up logging configuration\n",
    "logging.basicConfig(\n",
    "    filename='app.log',              # Log file name\n",
    "    filemode='a',                    # 'a' = append mode\n",
    "    level=logging.DEBUG,            # Log everything from DEBUG and above\n",
    "    format='%(asctime)s - %(levelname)s - %(message)s',\n",
    "    datefmt='%Y-%m-%d %H:%M:%S'\n",
    ")\n",
    "\n",
    "# Simulating some program behavior\n",
    "def divide(a, b):\n",
    "    try:\n",
    "        result = a / b\n",
    "        logging.info(f\"Success: {a} / {b} = {result}\")\n",
    "        return result\n",
    "    except ZeroDivisionError:\n",
    "        logging.error(\"Error: Tried dividing by zero\")\n",
    "    except Exception as e:\n",
    "        logging.critical(f\"Critical error: {str(e)}\")\n",
    "\n",
    "# Example usage\n",
    "logging.debug(\"Program started\")\n",
    "divide(10, 2)\n",
    "divide(5, 0)\n",
    "logging.debug(\"Program finished\")\n"
   ]
  },
  {
   "cell_type": "code",
   "execution_count": null,
   "id": "dc2d7b1e",
   "metadata": {},
   "outputs": [
    {
     "name": "stdout",
     "output_type": "stream",
     "text": [
      "Error: (535, b'5.7.8 Username and Password not accepted. For more information, go to\\n5.7.8  https://support.google.com/mail/?p=BadCredentials d2e1a72fcca58-742a96de111sm14461809b3a.3 - gsmtp')\n"
     ]
    }
   ],
   "source": [
    "import smtplib\n",
    "from email.mime.text import MIMEText\n",
    "\n",
    "smtp_server = \"smtp.gmail.com\"\n",
    "port = 587\n",
    "sender_email = \"abhi84514aaa.in@gmail.com\"\n",
    "receiver_email = \"receiver@gmail.com\"\n",
    "password = \"\"\n",
    "\n",
    "# Create message\n",
    "msg = MIMEText(\"Hello! This is a test email.\")\n",
    "msg[\"Subject\"] = \"Test Email\"\n",
    "msg[\"From\"] = sender_email\n",
    "msg[\"To\"] = receiver_email\n",
    "\n",
    "# Send email\n",
    "try:\n",
    "    with smtplib.SMTP(smtp_server, port) as server:\n",
    "        server.starttls()  # Secure the connection\n",
    "        server.login(sender_email, password)\n",
    "        server.sendmail(sender_email, receiver_email, msg.as_string())\n",
    "    print(\"Email sent successfully!\")\n",
    "except Exception as e:\n",
    "    print(f\"Error: {e}\")\n"
   ]
  },
  {
   "cell_type": "code",
   "execution_count": 7,
   "id": "1b50999d",
   "metadata": {},
   "outputs": [
    {
     "name": "stdout",
     "output_type": "stream",
     "text": [
      "Hello abhishek\n"
     ]
    }
   ],
   "source": [
    "import logging \n",
    "\n",
    "logging.basicConfig(\n",
    "    filename='app2.log',\n",
    "    level=logging.INFO,\n",
    "    format=\"%(asctime)s-%(levelname)s-%(message)s\"\n",
    "\n",
    ")\n",
    "def print_myname(args):\n",
    "    if(True):\n",
    "        print(\"Hello abhishek\")\n",
    "        logging.info(\"Finally your name printed here in log file\")\n",
    "    if (False):\n",
    "        print(\"Hii there\")    \n",
    "        logging.error(\"You got dsome err\")\n",
    "print_myname(True)        "
   ]
  },
  {
   "cell_type": "code",
   "execution_count": 10,
   "id": "619d6ee7",
   "metadata": {},
   "outputs": [
    {
     "data": {
      "text/plain": [
       "6"
      ]
     },
     "execution_count": 10,
     "metadata": {},
     "output_type": "execute_result"
    }
   ],
   "source": [
    "import logging \n",
    "logger = logging.getLogger(\"my_logger\")\n",
    "logger.setLevel(logging.DEBUG)\n",
    "\n",
    "# Console handler\n",
    "console_handler = logging.StreamHandler()\n",
    "console_handler.setLevel(logging.WARNING)\n",
    "\n",
    "# File handler\n",
    "file_handler = logging.FileHandler(\"app3.log\")\n",
    "file_handler.setLevel(logging.INFO)\n",
    "\n",
    "# Formatter\n",
    "formatter = logging.Formatter(\"%(asctime)s-%(levelname)s-%(message)s\")\n",
    "# Adding formatter to both console and file handler \n",
    "console_handler.setFormatter(formatter)\n",
    "file_handler.setFormatter(formatter)\n",
    "\n",
    "# Adding handlers to the logger \n",
    "logger.addHandler(console_handler)\n",
    "logger.addHandler(file_handler)\n",
    "\n",
    "def add_two_num(a, b):\n",
    "    logger.info(\"You are trying to add two numbers\")\n",
    "    return a + b\n",
    "\n",
    "add_two_num(2, 4)"
   ]
  },
  {
   "cell_type": "code",
   "execution_count": null,
   "id": "3d6ad1f3",
   "metadata": {},
   "outputs": [],
   "source": []
  },
  {
   "cell_type": "code",
   "execution_count": null,
   "id": "83a02a02",
   "metadata": {},
   "outputs": [],
   "source": []
  },
  {
   "cell_type": "code",
   "execution_count": null,
   "id": "d244e82c",
   "metadata": {},
   "outputs": [],
   "source": []
  }
 ],
 "metadata": {
  "kernelspec": {
   "display_name": "Python 3",
   "language": "python",
   "name": "python3"
  },
  "language_info": {
   "codemirror_mode": {
    "name": "ipython",
    "version": 3
   },
   "file_extension": ".py",
   "mimetype": "text/x-python",
   "name": "python",
   "nbconvert_exporter": "python",
   "pygments_lexer": "ipython3",
   "version": "3.12.0"
  }
 },
 "nbformat": 4,
 "nbformat_minor": 5
}
