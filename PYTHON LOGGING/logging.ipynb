{
 "cells": [
  {
   "cell_type": "markdown",
   "id": "751ee023",
   "metadata": {},
   "source": [
    "Logging"
   ]
  },
  {
   "cell_type": "markdown",
   "id": "a135ab8c",
   "metadata": {},
   "source": [
    "logging is a cruciaal aspect of any app , providing a way to track events , errors , amd operational info . Python built in logging modules offers a flexible framework for emitting log messages from python programs"
   ]
  },
  {
   "cell_type": "code",
   "execution_count": 7,
   "id": "2e77c281",
   "metadata": {},
   "outputs": [
    {
     "name": "stderr",
     "output_type": "stream",
     "text": [
      "DEBUG:root:This is a debug msg\n",
      "INFO:root:This is an info ms\n",
      "WARNING:root:This is a warning msg\n",
      "ERROR:root:This is an error mdg\n",
      "CRITICAL:root:This is an critical msg\n"
     ]
    }
   ],
   "source": [
    "import logging\n",
    "\n",
    "#configure the basic logging setup\n",
    "logging.basicConfig(level=logging.DEBUG)\n",
    "\n",
    "#LOGIN MSG\n",
    "logging.debug(\"This is a debug msg\")\n",
    "logging.info(\"This is an info ms\")\n",
    "logging.warning(\"This is a warning msg\")\n",
    "logging.error(\"This is an error mdg\")\n",
    "logging.critical(\"This is an critical msg\")"
   ]
  },
  {
   "cell_type": "code",
   "execution_count": 10,
   "id": "552fecfb",
   "metadata": {},
   "outputs": [
    {
     "name": "stderr",
     "output_type": "stream",
     "text": [
      "DEBUG:root:This is a debug msg\n",
      "INFO:root:This is an info ms\n",
      "WARNING:root:This is a warning msg\n",
      "ERROR:root:This is an error mdg\n",
      "CRITICAL:root:This is an critical msg\n"
     ]
    }
   ],
   "source": [
    "#configuring logging\n",
    "logging.basicConfig(\n",
    "    filename='app.log',\n",
    "    filemode='w',\n",
    "    level=logging.DEBUG,\n",
    "    format='%(asctime)s-%(message)s',\n",
    "    datefmt='%Y-%m-%d %H:%M:%S'\n",
    ")\n",
    "\n",
    "\n",
    "\n",
    "#LOGIN MSG\n",
    "logging.debug(\"This is a debug msg\")\n",
    "logging.info(\"This is an info ms\")\n",
    "logging.warning(\"This is a warning msg\")\n",
    "logging.error(\"This is an error mdg\")\n",
    "logging.critical(\"This is an critical msg\")"
   ]
  },
  {
   "cell_type": "code",
   "execution_count": null,
   "id": "cd2044b4",
   "metadata": {},
   "outputs": [],
   "source": []
  },
  {
   "cell_type": "code",
   "execution_count": null,
   "id": "dc2d7b1e",
   "metadata": {},
   "outputs": [],
   "source": []
  },
  {
   "cell_type": "code",
   "execution_count": null,
   "id": "1b50999d",
   "metadata": {},
   "outputs": [],
   "source": []
  },
  {
   "cell_type": "code",
   "execution_count": null,
   "id": "8276cc7d",
   "metadata": {},
   "outputs": [],
   "source": []
  },
  {
   "cell_type": "code",
   "execution_count": null,
   "id": "3d6ad1f3",
   "metadata": {},
   "outputs": [],
   "source": []
  },
  {
   "cell_type": "code",
   "execution_count": null,
   "id": "83a02a02",
   "metadata": {},
   "outputs": [],
   "source": []
  },
  {
   "cell_type": "code",
   "execution_count": null,
   "id": "d244e82c",
   "metadata": {},
   "outputs": [],
   "source": []
  }
 ],
 "metadata": {
  "kernelspec": {
   "display_name": "Python 3",
   "language": "python",
   "name": "python3"
  },
  "language_info": {
   "codemirror_mode": {
    "name": "ipython",
    "version": 3
   },
   "file_extension": ".py",
   "mimetype": "text/x-python",
   "name": "python",
   "nbconvert_exporter": "python",
   "pygments_lexer": "ipython3",
   "version": "3.12.0"
  }
 },
 "nbformat": 4,
 "nbformat_minor": 5
}
